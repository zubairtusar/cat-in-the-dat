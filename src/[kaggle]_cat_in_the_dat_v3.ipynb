{
  "cells": [
    {
      "cell_type": "markdown",
      "metadata": {
        "id": "D25GI1bUPo40"
      },
      "source": [
        "# Inspiration: [Kaggle Notebook](https://www.kaggle.com/code/anasnofal/1st-place-solution)"
      ]
    },
    {
      "cell_type": "code",
      "execution_count": 1,
      "metadata": {
        "id": "07MPMv9GScWC"
      },
      "outputs": [],
      "source": [
        "import warnings\n",
        "warnings.filterwarnings('ignore')"
      ]
    },
    {
      "cell_type": "code",
      "execution_count": 2,
      "metadata": {
        "id": "FDXPwhnQSdXt"
      },
      "outputs": [],
      "source": [
        "import numpy as np\n",
        "import pandas as pd\n",
        "import scipy\n",
        "import sklearn\n",
        "from sklearn.preprocessing import OrdinalEncoder\n",
        "from sklearn.preprocessing import StandardScaler\n",
        "from sklearn.preprocessing import OneHotEncoder\n",
        "from sklearn.linear_model import LogisticRegression\n",
        "from sklearn.model_selection import cross_validate,cross_val_score,StratifiedKFold"
      ]
    },
    {
      "cell_type": "code",
      "execution_count": 5,
      "metadata": {
        "id": "uXtvS0deSgGG"
      },
      "outputs": [],
      "source": [
        "df_train = pd.read_csv('../data/train.csv/train.csv', index_col='id')\n",
        "df_test = pd.read_csv('../data/test.csv/test.csv', index_col='id')"
      ]
    },
    {
      "cell_type": "code",
      "execution_count": 6,
      "metadata": {
        "id": "UgspDpuXSh8j"
      },
      "outputs": [],
      "source": [
        "binvar = ['bin_' + str(i) for i in range(1,5)]\n",
        "ordvar = ['ord_' + str(i) for i in range(6)]\n",
        "nomvar = ['nom_' + str(i) for i in range(10)]\n",
        "\n",
        "dmvar  = ['day', 'month']"
      ]
    },
    {
      "cell_type": "code",
      "execution_count": 7,
      "metadata": {
        "id": "IC9Yf4hxSkzz"
      },
      "outputs": [],
      "source": [
        "train_test = df_train.copy()\n",
        "y_train = train_test['target'].copy()\n",
        "\n",
        "train_test = pd.concat([train_test.drop('target', axis = 1), df_test])"
      ]
    },
    {
      "cell_type": "code",
      "execution_count": 8,
      "metadata": {
        "id": "hqTsJA4iSqCw"
      },
      "outputs": [],
      "source": [
        "#Bin vars\n",
        "train_test.drop('bin_0', inplace=True, axis=1)\n",
        "train_test['bin_3'] = train_test['bin_3'].map({'F':0, 'T':1})\n",
        "train_test['bin_4'] = train_test['bin_4'].map({'N':0, 'Y':1})"
      ]
    },
    {
      "cell_type": "code",
      "execution_count": 9,
      "metadata": {
        "colab": {
          "base_uri": "https://localhost:8080/"
        },
        "id": "tJx7a0WGSrvQ",
        "outputId": "906d449e-d9a4-43cc-938b-e7fd81b22413"
      },
      "outputs": [
        {
          "name": "stdout",
          "output_type": "stream",
          "text": [
            "ord_3\n",
            "['a' 'b' 'c' 'd' 'e' 'f' 'g' 'h' 'i' 'j' 'k' 'l' 'm' 'n' 'o']\n",
            "ord_4\n",
            "['A' 'B' 'C' 'D' 'E' 'F' 'G' 'H' 'I' 'J' 'K' 'L' 'M' 'N' 'O' 'P' 'Q' 'R'\n",
            " 'S' 'T' 'U' 'V' 'W' 'X' 'Y' 'Z']\n",
            "ord_5\n",
            "['AP' 'Ai' 'Aj' 'BA' 'BE' 'Bb' 'Bd' 'Bn' 'CL' 'CM' 'CU' 'CZ' 'Cl' 'DH'\n",
            " 'DN' 'Dc' 'Dx' 'Ed' 'Eg' 'Er' 'FI' 'Fd' 'Fo' 'GD' 'GJ' 'Gb' 'Gx' 'Hj'\n",
            " 'IK' 'Id' 'JX' 'Jc' 'Jf' 'Jt' 'KR' 'KZ' 'Kf' 'Kq' 'LE' 'MC' 'MO' 'MV'\n",
            " 'Mf' 'Ml' 'Mx' 'NV' 'Nf' 'Nk' 'OR' 'Ob' 'Os' 'PA' 'PQ' 'PZ' 'Ps' 'QM'\n",
            " 'Qb' 'Qh' 'Qo' 'RG' 'RL' 'RP' 'Rm' 'Ry' 'SB' 'Sc' 'TR' 'TZ' 'To' 'UO'\n",
            " 'Uk' 'Uu' 'Vf' 'Vx' 'WE' 'Wc' 'Wv' 'XI' 'Xh' 'Xi' 'YC' 'Yb' 'Ye' 'ZR'\n",
            " 'ZS' 'Zc' 'Zq' 'aF' 'aM' 'aO' 'aP' 'ac' 'av' 'bF' 'bJ' 'be' 'cA' 'cG'\n",
            " 'cW' 'ck' 'cp' 'dB' 'dE' 'dN' 'dO' 'dP' 'dQ' 'dZ' 'dh' 'eG' 'eQ' 'eb'\n",
            " 'eg' 'ek' 'ex' 'fO' 'fh' 'gJ' 'gM' 'hL' 'hT' 'hh' 'hp' 'iT' 'ih' 'jS'\n",
            " 'jV' 'je' 'jp' 'kC' 'kE' 'kK' 'kL' 'kU' 'kW' 'ke' 'kr' 'kw' 'lF' 'lL'\n",
            " 'll' 'lx' 'mb' 'mc' 'mm' 'nX' 'nh' 'oC' 'oG' 'oH' 'oK' 'od' 'on' 'pa'\n",
            " 'ps' 'qA' 'qJ' 'qK' 'qP' 'qX' 'qo' 'qv' 'qw' 'rZ' 'ri' 'rp' 'sD' 'sV'\n",
            " 'sY' 'sn' 'su' 'tM' 'tP' 'tv' 'uJ' 'uS' 'ud' 'us' 'ut' 'ux' 'uy' 'vK'\n",
            " 'vq' 'vy' 'wu' 'wy' 'xP' 'xy' 'yN' 'yY' 'yc' 'zU']\n"
          ]
        }
      ],
      "source": [
        "#Ord vars\n",
        "train_test['ord_0'] = train_test['ord_0'] - 1\n",
        "ord1dict = {'Novice':0, 'Contributor':1, 'Expert':2, 'Master':3, 'Grandmaster':4}\n",
        "train_test['ord_1'] = train_test['ord_1'].map(ord1dict)\n",
        "ord2dict = {'Freezing':0, 'Cold':1, 'Warm':2, 'Hot':3, 'Boiling Hot':4, 'Lava Hot':5}\n",
        "train_test['ord_2'] = train_test['ord_2'].map(ord2dict)\n",
        "\n",
        "oe = OrdinalEncoder(categories='auto')\n",
        "train_test[ordvar[3:]] = oe.fit_transform(train_test[ordvar[3:]])\n",
        "\n",
        "for var, cl in zip(ordvar[3:], oe.categories_):\n",
        "    print(var)\n",
        "    print(cl)\n",
        "\n",
        "#Scaling ord vars\n",
        "train_test[ordvar] = StandardScaler().fit_transform(train_test[ordvar])"
      ]
    },
    {
      "cell_type": "code",
      "execution_count": 10,
      "metadata": {
        "id": "mo49MFgmSwB4"
      },
      "outputs": [],
      "source": [
        "#Nom vars\n",
        "# Definitely there is something covered in nom vars 5 - 9 but I didn't get it. Still cutting some letters works for me\n",
        "train_test[nomvar[5:]].nunique()\n",
        "\n",
        "train_test['nom_5'] = train_test['nom_5'].str[4:]\n",
        "train_test['nom_6'] = train_test['nom_6'].str[3:]\n",
        "train_test['nom_7'] = train_test['nom_7'].str[3:]\n",
        "train_test['nom_8'] = train_test['nom_8'].str[3:]\n",
        "train_test['nom_9'] = train_test['nom_9'].str[3:]\n",
        "train_test[nomvar[5:]].nunique()\n",
        "\n",
        "#One hot encoding nomvars & dmvars\n",
        "enc = OneHotEncoder(categories = 'auto', dtype = 'float64', drop = 'first')\n",
        "nom_matrix = enc.fit_transform(train_test[nomvar])\n",
        "train_test.drop(nomvar, inplace=True, axis=1)\n",
        "enc = OneHotEncoder(categories='auto', dtype = 'float64', drop = 'first')\n",
        "dm_matrix = enc.fit_transform(train_test[dmvar])\n",
        "train_test.drop(dmvar, inplace=True, axis=1)"
      ]
    },
    {
      "cell_type": "code",
      "execution_count": 11,
      "metadata": {
        "colab": {
          "base_uri": "https://localhost:8080/",
          "height": 52
        },
        "id": "dAdnO2NkSx-H",
        "outputId": "4fef3a42-7647-4f3b-989d-85559cadada9"
      },
      "outputs": [
        {
          "data": {
            "text/plain": [
              "<500000x16288 sparse matrix of type '<class 'numpy.float64'>'\n",
              "\twith 9235121 stored elements in Compressed Sparse Row format>"
            ]
          },
          "metadata": {},
          "output_type": "display_data"
        }
      ],
      "source": [
        "# Note: Use C-ordered arrays or CSR matrices containing 64-bit floats for optimal performance; # any other input format will be converted (and copied).\n",
        "train_test.columns\n",
        "\n",
        "df_work_sprs =scipy.sparse.hstack([nom_matrix,\n",
        "                                   scipy.sparse.coo_matrix(train_test).astype('float64'),\n",
        "                                   dm_matrix]).tocsr()\n",
        "display(df_work_sprs)"
      ]
    },
    {
      "cell_type": "code",
      "execution_count": 12,
      "metadata": {
        "id": "6MjLJgUEPqR1"
      },
      "outputs": [],
      "source": [
        "X_train = df_work_sprs[:y_train.shape[0]]\n",
        "X_test = df_work_sprs[y_train.shape[0]:]"
      ]
    },
    {
      "cell_type": "code",
      "execution_count": 13,
      "metadata": {
        "id": "XKu6XQRPTXE5"
      },
      "outputs": [],
      "source": [
        "from sklearn.model_selection import GridSearchCV"
      ]
    },
    {
      "cell_type": "code",
      "execution_count": 14,
      "metadata": {
        "id": "hFdsLxuBTYyk"
      },
      "outputs": [],
      "source": [
        "logModel = LogisticRegression()\n",
        "param_grid = [    \n",
        "    {'penalty' : ['l1', 'l2', 'elasticnet', 'none'],\n",
        "    # 'C' : np.logspace(-4, 4, 20),\n",
        "    'solver' : ['lbfgs','newton-cg','liblinear','sag','saga'],\n",
        "    'max_iter' : [100, 1000]\n",
        "    }\n",
        "]\n",
        "\n",
        "clf = GridSearchCV(logModel, param_grid = param_grid, cv = 2, verbose=True, n_jobs=-1)"
      ]
    },
    {
      "cell_type": "code",
      "execution_count": 15,
      "metadata": {
        "colab": {
          "base_uri": "https://localhost:8080/"
        },
        "id": "-Aec30JhTadB",
        "outputId": "ae82cdbd-38f1-490a-9598-764422f39dca"
      },
      "outputs": [
        {
          "name": "stdout",
          "output_type": "stream",
          "text": [
            "Fitting 2 folds for each of 40 candidates, totalling 80 fits\n"
          ]
        }
      ],
      "source": [
        "best_clf = clf.fit(X_train, y_train)"
      ]
    },
    {
      "cell_type": "code",
      "execution_count": 16,
      "metadata": {
        "id": "sd8ToUSQRdDO"
      },
      "outputs": [],
      "source": [
        "y_pred = best_clf.predict_proba(X_test)[:,1]"
      ]
    },
    {
      "cell_type": "code",
      "execution_count": 17,
      "metadata": {
        "colab": {
          "base_uri": "https://localhost:8080/"
        },
        "id": "B3pdGvq7RdDP",
        "outputId": "2655a57c-5dd0-451c-e247-c48b654870f8"
      },
      "outputs": [
        {
          "data": {
            "text/plain": [
              "array([0.32181265, 0.69756238, 0.09985319, ..., 0.32966738, 0.63461347,\n",
              "       0.22172138])"
            ]
          },
          "execution_count": 17,
          "metadata": {},
          "output_type": "execute_result"
        }
      ],
      "source": [
        "y_pred"
      ]
    },
    {
      "cell_type": "code",
      "execution_count": 20,
      "metadata": {
        "id": "VM287tk_RdDP"
      },
      "outputs": [],
      "source": [
        "submission = pd.DataFrame()\n",
        "df_test = pd.read_csv('../data/test.csv/test.csv')\n",
        "\n",
        "submission['id'] = df_test['id']\n",
        "submission['target'] = y_pred"
      ]
    },
    {
      "cell_type": "code",
      "execution_count": 21,
      "metadata": {
        "colab": {
          "base_uri": "https://localhost:8080/",
          "height": 206
        },
        "id": "rwTK_YOeRdDP",
        "outputId": "7cb88b92-59ad-44dd-cc10-603c1aec5488"
      },
      "outputs": [
        {
          "data": {
            "text/html": [
              "<div>\n",
              "<style scoped>\n",
              "    .dataframe tbody tr th:only-of-type {\n",
              "        vertical-align: middle;\n",
              "    }\n",
              "\n",
              "    .dataframe tbody tr th {\n",
              "        vertical-align: top;\n",
              "    }\n",
              "\n",
              "    .dataframe thead th {\n",
              "        text-align: right;\n",
              "    }\n",
              "</style>\n",
              "<table border=\"1\" class=\"dataframe\">\n",
              "  <thead>\n",
              "    <tr style=\"text-align: right;\">\n",
              "      <th></th>\n",
              "      <th>id</th>\n",
              "      <th>target</th>\n",
              "    </tr>\n",
              "  </thead>\n",
              "  <tbody>\n",
              "    <tr>\n",
              "      <th>0</th>\n",
              "      <td>300000</td>\n",
              "      <td>0.321813</td>\n",
              "    </tr>\n",
              "    <tr>\n",
              "      <th>1</th>\n",
              "      <td>300001</td>\n",
              "      <td>0.697562</td>\n",
              "    </tr>\n",
              "    <tr>\n",
              "      <th>2</th>\n",
              "      <td>300002</td>\n",
              "      <td>0.099853</td>\n",
              "    </tr>\n",
              "    <tr>\n",
              "      <th>3</th>\n",
              "      <td>300003</td>\n",
              "      <td>0.413403</td>\n",
              "    </tr>\n",
              "    <tr>\n",
              "      <th>4</th>\n",
              "      <td>300004</td>\n",
              "      <td>0.873041</td>\n",
              "    </tr>\n",
              "  </tbody>\n",
              "</table>\n",
              "</div>"
            ],
            "text/plain": [
              "       id    target\n",
              "0  300000  0.321813\n",
              "1  300001  0.697562\n",
              "2  300002  0.099853\n",
              "3  300003  0.413403\n",
              "4  300004  0.873041"
            ]
          },
          "execution_count": 21,
          "metadata": {},
          "output_type": "execute_result"
        }
      ],
      "source": [
        "submission.head()"
      ]
    },
    {
      "cell_type": "code",
      "execution_count": 22,
      "metadata": {
        "id": "JEnP6NPyRdDQ"
      },
      "outputs": [],
      "source": [
        "submission.to_csv(\"../data/submission_v3.csv\", index=False)"
      ]
    }
  ],
  "metadata": {
    "colab": {
      "name": "[kaggle] cat-in-the-dat.ipynb",
      "provenance": []
    },
    "kernelspec": {
      "display_name": "Python 3.7.13 ('cat-in-the-dat-env')",
      "language": "python",
      "name": "python3"
    },
    "language_info": {
      "codemirror_mode": {
        "name": "ipython",
        "version": 3
      },
      "file_extension": ".py",
      "mimetype": "text/x-python",
      "name": "python",
      "nbconvert_exporter": "python",
      "pygments_lexer": "ipython3",
      "version": "3.7.13"
    },
    "vscode": {
      "interpreter": {
        "hash": "549c7c69251f8469ba7ccbd5cf2b62f165b3101ea90cf50b60ab6d629fc77ffd"
      }
    }
  },
  "nbformat": 4,
  "nbformat_minor": 0
}
