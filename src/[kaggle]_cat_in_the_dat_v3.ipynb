{
  "nbformat": 4,
  "nbformat_minor": 0,
  "metadata": {
    "colab": {
      "name": "[kaggle] cat-in-the-dat.ipynb",
      "provenance": []
    },
    "kernelspec": {
      "name": "python3",
      "display_name": "Python 3"
    },
    "language_info": {
      "name": "python"
    }
  },
  "cells": [
    {
      "cell_type": "markdown",
      "source": [
        "# Inspiration: [Kaggle Notebook](https://www.kaggle.com/code/anasnofal/1st-place-solution)"
      ],
      "metadata": {
        "id": "D25GI1bUPo40"
      }
    },
    {
      "cell_type": "code",
      "source": [
        "import warnings\n",
        "warnings.filterwarnings('ignore')"
      ],
      "metadata": {
        "id": "07MPMv9GScWC"
      },
      "execution_count": 126,
      "outputs": []
    },
    {
      "cell_type": "code",
      "source": [
        "import numpy as np\n",
        "import pandas as pd\n",
        "import scipy\n",
        "import sklearn\n",
        "from sklearn.preprocessing import OrdinalEncoder\n",
        "from sklearn.preprocessing import StandardScaler\n",
        "from sklearn.preprocessing import OneHotEncoder\n",
        "from sklearn.linear_model import LogisticRegression\n",
        "from sklearn.model_selection import cross_validate,cross_val_score,StratifiedKFold"
      ],
      "metadata": {
        "id": "FDXPwhnQSdXt"
      },
      "execution_count": 127,
      "outputs": []
    },
    {
      "cell_type": "code",
      "source": [
        "df_train = pd.read_csv('train.csv', index_col='id')\n",
        "df_test = pd.read_csv('test.csv', index_col='id')"
      ],
      "metadata": {
        "id": "uXtvS0deSgGG"
      },
      "execution_count": 128,
      "outputs": []
    },
    {
      "cell_type": "code",
      "source": [
        "binvar = ['bin_' + str(i) for i in range(1,5)]\n",
        "ordvar = ['ord_' + str(i) for i in range(6)]\n",
        "nomvar = ['nom_' + str(i) for i in range(10)]\n",
        "\n",
        "dmvar  = ['day', 'month']"
      ],
      "metadata": {
        "id": "UgspDpuXSh8j"
      },
      "execution_count": 129,
      "outputs": []
    },
    {
      "cell_type": "code",
      "source": [
        "train_test = df_train.copy()\n",
        "y_train = train_test['target'].copy()\n",
        "\n",
        "train_test = pd.concat([train_test.drop('target', axis = 1), df_test])"
      ],
      "metadata": {
        "id": "IC9Yf4hxSkzz"
      },
      "execution_count": 130,
      "outputs": []
    },
    {
      "cell_type": "code",
      "source": [
        "#Bin vars\n",
        "train_test.drop('bin_0', inplace=True, axis=1)\n",
        "train_test['bin_3'] = train_test['bin_3'].map({'F':0, 'T':1})\n",
        "train_test['bin_4'] = train_test['bin_4'].map({'N':0, 'Y':1})"
      ],
      "metadata": {
        "id": "hqTsJA4iSqCw"
      },
      "execution_count": 131,
      "outputs": []
    },
    {
      "cell_type": "code",
      "source": [
        "#Ord vars\n",
        "train_test['ord_0'] = train_test['ord_0'] - 1\n",
        "ord1dict = {'Novice':0, 'Contributor':1, 'Expert':2, 'Master':3, 'Grandmaster':4}\n",
        "train_test['ord_1'] = train_test['ord_1'].map(ord1dict)\n",
        "ord2dict = {'Freezing':0, 'Cold':1, 'Warm':2, 'Hot':3, 'Boiling Hot':4, 'Lava Hot':5}\n",
        "train_test['ord_2'] = train_test['ord_2'].map(ord2dict)\n",
        "\n",
        "oe = OrdinalEncoder(categories='auto')\n",
        "train_test[ordvar[3:]] = oe.fit_transform(train_test[ordvar[3:]])\n",
        "\n",
        "for var, cl in zip(ordvar[3:], oe.categories_):\n",
        "    print(var)\n",
        "    print(cl)\n",
        "\n",
        "#Scaling ord vars\n",
        "train_test[ordvar] = StandardScaler().fit_transform(train_test[ordvar])"
      ],
      "metadata": {
        "colab": {
          "base_uri": "https://localhost:8080/"
        },
        "id": "tJx7a0WGSrvQ",
        "outputId": "906d449e-d9a4-43cc-938b-e7fd81b22413"
      },
      "execution_count": 132,
      "outputs": [
        {
          "output_type": "stream",
          "name": "stdout",
          "text": [
            "ord_3\n",
            "['a' 'b' 'c' 'd' 'e' 'f' 'g' 'h' 'i' 'j' 'k' 'l' 'm' 'n' 'o']\n",
            "ord_4\n",
            "['A' 'B' 'C' 'D' 'E' 'F' 'G' 'H' 'I' 'J' 'K' 'L' 'M' 'N' 'O' 'P' 'Q' 'R'\n",
            " 'S' 'T' 'U' 'V' 'W' 'X' 'Y' 'Z']\n",
            "ord_5\n",
            "['AP' 'Ai' 'Aj' 'BA' 'BE' 'Bb' 'Bd' 'Bn' 'CL' 'CM' 'CU' 'CZ' 'Cl' 'DH'\n",
            " 'DN' 'Dc' 'Dx' 'Ed' 'Eg' 'Er' 'FI' 'Fd' 'Fo' 'GD' 'GJ' 'Gb' 'Gx' 'Hj'\n",
            " 'IK' 'Id' 'JX' 'Jc' 'Jf' 'Jt' 'KR' 'KZ' 'Kf' 'Kq' 'LE' 'MC' 'MO' 'MV'\n",
            " 'Mf' 'Ml' 'Mx' 'NV' 'Nf' 'Nk' 'OR' 'Ob' 'Os' 'PA' 'PQ' 'PZ' 'Ps' 'QM'\n",
            " 'Qb' 'Qh' 'Qo' 'RG' 'RL' 'RP' 'Rm' 'Ry' 'SB' 'Sc' 'TR' 'TZ' 'To' 'UO'\n",
            " 'Uk' 'Uu' 'Vf' 'Vx' 'WE' 'Wc' 'Wv' 'XI' 'Xh' 'Xi' 'YC' 'Yb' 'Ye' 'ZR'\n",
            " 'ZS' 'Zc' 'Zq' 'aF' 'aM' 'aO' 'aP' 'ac' 'av' 'bF' 'bJ' 'be' 'cA' 'cG'\n",
            " 'cW' 'ck' 'cp' 'dB' 'dE' 'dN' 'dO' 'dP' 'dQ' 'dZ' 'dh' 'eG' 'eQ' 'eb'\n",
            " 'eg' 'ek' 'ex' 'fO' 'fh' 'gJ' 'gM' 'hL' 'hT' 'hh' 'hp' 'iT' 'ih' 'jS'\n",
            " 'jV' 'je' 'jp' 'kC' 'kE' 'kK' 'kL' 'kU' 'kW' 'ke' 'kr' 'kw' 'lF' 'lL'\n",
            " 'll' 'lx' 'mb' 'mc' 'mm' 'nX' 'nh' 'oC' 'oG' 'oH' 'oK' 'od' 'on' 'pa'\n",
            " 'ps' 'qA' 'qJ' 'qK' 'qP' 'qX' 'qo' 'qv' 'qw' 'rZ' 'ri' 'rp' 'sD' 'sV'\n",
            " 'sY' 'sn' 'su' 'tM' 'tP' 'tv' 'uJ' 'uS' 'ud' 'us' 'ut' 'ux' 'uy' 'vK'\n",
            " 'vq' 'vy' 'wu' 'wy' 'xP' 'xy' 'yN' 'yY' 'yc' 'zU']\n"
          ]
        }
      ]
    },
    {
      "cell_type": "code",
      "source": [
        "#Nom vars\n",
        "# Definitely there is something covered in nom vars 5 - 9 but I didn't get it. Still cutting some letters works for me\n",
        "train_test[nomvar[5:]].nunique()\n",
        "\n",
        "train_test['nom_5'] = train_test['nom_5'].str[4:]\n",
        "train_test['nom_6'] = train_test['nom_6'].str[3:]\n",
        "train_test['nom_7'] = train_test['nom_7'].str[3:]\n",
        "train_test['nom_8'] = train_test['nom_8'].str[3:]\n",
        "train_test['nom_9'] = train_test['nom_9'].str[3:]\n",
        "train_test[nomvar[5:]].nunique()\n",
        "\n",
        "#One hot encoding nomvars & dmvars\n",
        "enc = OneHotEncoder(categories = 'auto', dtype = 'float64', drop = 'first')\n",
        "nom_matrix = enc.fit_transform(train_test[nomvar])\n",
        "train_test.drop(nomvar, inplace=True, axis=1)\n",
        "enc = OneHotEncoder(categories='auto', dtype = 'float64', drop = 'first')\n",
        "dm_matrix = enc.fit_transform(train_test[dmvar])\n",
        "train_test.drop(dmvar, inplace=True, axis=1)"
      ],
      "metadata": {
        "id": "mo49MFgmSwB4"
      },
      "execution_count": 133,
      "outputs": []
    },
    {
      "cell_type": "code",
      "source": [
        "# Note: Use C-ordered arrays or CSR matrices containing 64-bit floats for optimal performance; # any other input format will be converted (and copied).\n",
        "train_test.columns\n",
        "\n",
        "df_work_sprs =scipy.sparse.hstack([nom_matrix,\n",
        "                                   scipy.sparse.coo_matrix(train_test).astype('float64'),\n",
        "                                   dm_matrix]).tocsr()\n",
        "display(df_work_sprs)"
      ],
      "metadata": {
        "colab": {
          "base_uri": "https://localhost:8080/",
          "height": 52
        },
        "id": "dAdnO2NkSx-H",
        "outputId": "4fef3a42-7647-4f3b-989d-85559cadada9"
      },
      "execution_count": 134,
      "outputs": [
        {
          "output_type": "display_data",
          "data": {
            "text/plain": [
              "<500000x16288 sparse matrix of type '<class 'numpy.float64'>'\n",
              "\twith 9235121 stored elements in Compressed Sparse Row format>"
            ]
          },
          "metadata": {}
        }
      ]
    },
    {
      "cell_type": "code",
      "source": [
        "X_train = df_work_sprs[:y_train.shape[0]]\n",
        "X_test = df_work_sprs[y_train.shape[0]:]"
      ],
      "metadata": {
        "id": "6MjLJgUEPqR1"
      },
      "execution_count": 135,
      "outputs": []
    },
    {
      "cell_type": "code",
      "source": [
        "from sklearn.model_selection import GridSearchCV"
      ],
      "metadata": {
        "id": "XKu6XQRPTXE5"
      },
      "execution_count": 142,
      "outputs": []
    },
    {
      "cell_type": "code",
      "source": [
        "logModel = LogisticRegression()\n",
        "param_grid = [    \n",
        "    {'penalty' : ['l1', 'l2', 'elasticnet', 'none'],\n",
        "    # 'C' : np.logspace(-4, 4, 20),\n",
        "    'solver' : ['lbfgs','newton-cg','liblinear','sag','saga'],\n",
        "    'max_iter' : [100, 1000]\n",
        "    }\n",
        "]\n",
        "\n",
        "clf = GridSearchCV(logModel, param_grid = param_grid, cv = 2, verbose=True, n_jobs=-1)"
      ],
      "metadata": {
        "id": "hFdsLxuBTYyk"
      },
      "execution_count": 151,
      "outputs": []
    },
    {
      "cell_type": "code",
      "source": [
        "best_clf = clf.fit(X_train, y_train)"
      ],
      "metadata": {
        "colab": {
          "base_uri": "https://localhost:8080/"
        },
        "id": "-Aec30JhTadB",
        "outputId": "ae82cdbd-38f1-490a-9598-764422f39dca"
      },
      "execution_count": 152,
      "outputs": [
        {
          "output_type": "stream",
          "name": "stdout",
          "text": [
            "Fitting 2 folds for each of 40 candidates, totalling 80 fits\n"
          ]
        }
      ]
    },
    {
      "cell_type": "code",
      "source": [
        "y_pred = best_clf.predict_proba(X_test)[:,1]"
      ],
      "metadata": {
        "id": "sd8ToUSQRdDO"
      },
      "execution_count": 153,
      "outputs": []
    },
    {
      "cell_type": "code",
      "source": [
        "y_pred"
      ],
      "metadata": {
        "colab": {
          "base_uri": "https://localhost:8080/"
        },
        "outputId": "2655a57c-5dd0-451c-e247-c48b654870f8",
        "id": "B3pdGvq7RdDP"
      },
      "execution_count": 154,
      "outputs": [
        {
          "output_type": "execute_result",
          "data": {
            "text/plain": [
              "array([0.32180609, 0.69755259, 0.09985358, ..., 0.32971178, 0.63458135,\n",
              "       0.22172158])"
            ]
          },
          "metadata": {},
          "execution_count": 154
        }
      ]
    },
    {
      "cell_type": "code",
      "source": [
        "submission = pd.DataFrame()\n",
        "\n",
        "submission['id'] = test_df['id']\n",
        "submission['target'] = y_pred"
      ],
      "metadata": {
        "id": "VM287tk_RdDP"
      },
      "execution_count": 155,
      "outputs": []
    },
    {
      "cell_type": "code",
      "source": [
        "submission.head()"
      ],
      "metadata": {
        "colab": {
          "base_uri": "https://localhost:8080/",
          "height": 206
        },
        "outputId": "7cb88b92-59ad-44dd-cc10-603c1aec5488",
        "id": "rwTK_YOeRdDP"
      },
      "execution_count": 156,
      "outputs": [
        {
          "output_type": "execute_result",
          "data": {
            "text/plain": [
              "       id    target\n",
              "0  300000  0.321806\n",
              "1  300001  0.697553\n",
              "2  300002  0.099854\n",
              "3  300003  0.413376\n",
              "4  300004  0.873037"
            ],
            "text/html": [
              "\n",
              "  <div id=\"df-733bd3c5-c85c-4a76-9275-d8c136efcbc2\">\n",
              "    <div class=\"colab-df-container\">\n",
              "      <div>\n",
              "<style scoped>\n",
              "    .dataframe tbody tr th:only-of-type {\n",
              "        vertical-align: middle;\n",
              "    }\n",
              "\n",
              "    .dataframe tbody tr th {\n",
              "        vertical-align: top;\n",
              "    }\n",
              "\n",
              "    .dataframe thead th {\n",
              "        text-align: right;\n",
              "    }\n",
              "</style>\n",
              "<table border=\"1\" class=\"dataframe\">\n",
              "  <thead>\n",
              "    <tr style=\"text-align: right;\">\n",
              "      <th></th>\n",
              "      <th>id</th>\n",
              "      <th>target</th>\n",
              "    </tr>\n",
              "  </thead>\n",
              "  <tbody>\n",
              "    <tr>\n",
              "      <th>0</th>\n",
              "      <td>300000</td>\n",
              "      <td>0.321806</td>\n",
              "    </tr>\n",
              "    <tr>\n",
              "      <th>1</th>\n",
              "      <td>300001</td>\n",
              "      <td>0.697553</td>\n",
              "    </tr>\n",
              "    <tr>\n",
              "      <th>2</th>\n",
              "      <td>300002</td>\n",
              "      <td>0.099854</td>\n",
              "    </tr>\n",
              "    <tr>\n",
              "      <th>3</th>\n",
              "      <td>300003</td>\n",
              "      <td>0.413376</td>\n",
              "    </tr>\n",
              "    <tr>\n",
              "      <th>4</th>\n",
              "      <td>300004</td>\n",
              "      <td>0.873037</td>\n",
              "    </tr>\n",
              "  </tbody>\n",
              "</table>\n",
              "</div>\n",
              "      <button class=\"colab-df-convert\" onclick=\"convertToInteractive('df-733bd3c5-c85c-4a76-9275-d8c136efcbc2')\"\n",
              "              title=\"Convert this dataframe to an interactive table.\"\n",
              "              style=\"display:none;\">\n",
              "        \n",
              "  <svg xmlns=\"http://www.w3.org/2000/svg\" height=\"24px\"viewBox=\"0 0 24 24\"\n",
              "       width=\"24px\">\n",
              "    <path d=\"M0 0h24v24H0V0z\" fill=\"none\"/>\n",
              "    <path d=\"M18.56 5.44l.94 2.06.94-2.06 2.06-.94-2.06-.94-.94-2.06-.94 2.06-2.06.94zm-11 1L8.5 8.5l.94-2.06 2.06-.94-2.06-.94L8.5 2.5l-.94 2.06-2.06.94zm10 10l.94 2.06.94-2.06 2.06-.94-2.06-.94-.94-2.06-.94 2.06-2.06.94z\"/><path d=\"M17.41 7.96l-1.37-1.37c-.4-.4-.92-.59-1.43-.59-.52 0-1.04.2-1.43.59L10.3 9.45l-7.72 7.72c-.78.78-.78 2.05 0 2.83L4 21.41c.39.39.9.59 1.41.59.51 0 1.02-.2 1.41-.59l7.78-7.78 2.81-2.81c.8-.78.8-2.07 0-2.86zM5.41 20L4 18.59l7.72-7.72 1.47 1.35L5.41 20z\"/>\n",
              "  </svg>\n",
              "      </button>\n",
              "      \n",
              "  <style>\n",
              "    .colab-df-container {\n",
              "      display:flex;\n",
              "      flex-wrap:wrap;\n",
              "      gap: 12px;\n",
              "    }\n",
              "\n",
              "    .colab-df-convert {\n",
              "      background-color: #E8F0FE;\n",
              "      border: none;\n",
              "      border-radius: 50%;\n",
              "      cursor: pointer;\n",
              "      display: none;\n",
              "      fill: #1967D2;\n",
              "      height: 32px;\n",
              "      padding: 0 0 0 0;\n",
              "      width: 32px;\n",
              "    }\n",
              "\n",
              "    .colab-df-convert:hover {\n",
              "      background-color: #E2EBFA;\n",
              "      box-shadow: 0px 1px 2px rgba(60, 64, 67, 0.3), 0px 1px 3px 1px rgba(60, 64, 67, 0.15);\n",
              "      fill: #174EA6;\n",
              "    }\n",
              "\n",
              "    [theme=dark] .colab-df-convert {\n",
              "      background-color: #3B4455;\n",
              "      fill: #D2E3FC;\n",
              "    }\n",
              "\n",
              "    [theme=dark] .colab-df-convert:hover {\n",
              "      background-color: #434B5C;\n",
              "      box-shadow: 0px 1px 3px 1px rgba(0, 0, 0, 0.15);\n",
              "      filter: drop-shadow(0px 1px 2px rgba(0, 0, 0, 0.3));\n",
              "      fill: #FFFFFF;\n",
              "    }\n",
              "  </style>\n",
              "\n",
              "      <script>\n",
              "        const buttonEl =\n",
              "          document.querySelector('#df-733bd3c5-c85c-4a76-9275-d8c136efcbc2 button.colab-df-convert');\n",
              "        buttonEl.style.display =\n",
              "          google.colab.kernel.accessAllowed ? 'block' : 'none';\n",
              "\n",
              "        async function convertToInteractive(key) {\n",
              "          const element = document.querySelector('#df-733bd3c5-c85c-4a76-9275-d8c136efcbc2');\n",
              "          const dataTable =\n",
              "            await google.colab.kernel.invokeFunction('convertToInteractive',\n",
              "                                                     [key], {});\n",
              "          if (!dataTable) return;\n",
              "\n",
              "          const docLinkHtml = 'Like what you see? Visit the ' +\n",
              "            '<a target=\"_blank\" href=https://colab.research.google.com/notebooks/data_table.ipynb>data table notebook</a>'\n",
              "            + ' to learn more about interactive tables.';\n",
              "          element.innerHTML = '';\n",
              "          dataTable['output_type'] = 'display_data';\n",
              "          await google.colab.output.renderOutput(dataTable, element);\n",
              "          const docLink = document.createElement('div');\n",
              "          docLink.innerHTML = docLinkHtml;\n",
              "          element.appendChild(docLink);\n",
              "        }\n",
              "      </script>\n",
              "    </div>\n",
              "  </div>\n",
              "  "
            ]
          },
          "metadata": {},
          "execution_count": 156
        }
      ]
    },
    {
      "cell_type": "code",
      "source": [
        "submission.to_csv(\"submission_v3.csv\", index=False)"
      ],
      "metadata": {
        "id": "JEnP6NPyRdDQ"
      },
      "execution_count": 157,
      "outputs": []
    }
  ]
}