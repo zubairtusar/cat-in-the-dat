{
  "nbformat": 4,
  "nbformat_minor": 0,
  "metadata": {
    "colab": {
      "name": "[kaggle] cat-in-the-dat.ipynb",
      "provenance": []
    },
    "kernelspec": {
      "name": "python3",
      "display_name": "Python 3"
    },
    "language_info": {
      "name": "python"
    }
  },
  "cells": [
    {
      "cell_type": "code",
      "execution_count": 65,
      "metadata": {
        "id": "6YZzwO2Gs-cO"
      },
      "outputs": [],
      "source": [
        "import pandas as pd\n",
        "import numpy as np\n",
        "from sklearn import preprocessing\n",
        "from sklearn.model_selection import StratifiedKFold\n",
        "\n",
        "from sklearn.linear_model import LogisticRegression\n",
        "\n",
        "from sklearn import metrics\n",
        "from sklearn.metrics import accuracy_score"
      ]
    },
    {
      "cell_type": "markdown",
      "source": [
        "## **DATA EXPLORATION:** TRAIN"
      ],
      "metadata": {
        "id": "1t21sAFetk-Q"
      }
    },
    {
      "cell_type": "code",
      "source": [
        "train_df = pd.read_csv(\"train.csv\")\n",
        "train_df.head(10)"
      ],
      "metadata": {
        "colab": {
          "base_uri": "https://localhost:8080/",
          "height": 560
        },
        "id": "aLPbUsaotj8J",
        "outputId": "33247e36-a249-4e61-daaf-646ccd24c00e"
      },
      "execution_count": 66,
      "outputs": [
        {
          "output_type": "execute_result",
          "data": {
            "text/plain": [
              "   id  bin_0  bin_1  bin_2 bin_3 bin_4  nom_0      nom_1    nom_2       nom_3  \\\n",
              "0   0      0      0      0     T     Y  Green   Triangle    Snake     Finland   \n",
              "1   1      0      1      0     T     Y  Green  Trapezoid  Hamster      Russia   \n",
              "2   2      0      0      0     F     Y   Blue  Trapezoid     Lion      Russia   \n",
              "3   3      0      1      0     F     Y    Red  Trapezoid    Snake      Canada   \n",
              "4   4      0      0      0     F     N    Red  Trapezoid     Lion      Canada   \n",
              "5   5      0      1      1     T     N   Blue    Polygon     Lion  Costa Rica   \n",
              "6   6      0      1      1     T     N  Green  Trapezoid      Cat       China   \n",
              "7   7      1      0      1     T     Y    Red   Triangle      Dog      Russia   \n",
              "8   8      1      0      1     T     Y   Blue     Square  Hamster      Canada   \n",
              "9   9      0      0      0     F     Y    Red  Trapezoid     Lion       China   \n",
              "\n",
              "   ...      nom_9 ord_0        ord_1        ord_2 ord_3 ord_4  ord_5 day  \\\n",
              "0  ...  2f4cb3d51     2  Grandmaster         Cold     h     D     kr   2   \n",
              "1  ...  f83c56c21     1  Grandmaster          Hot     a     A     bF   7   \n",
              "2  ...  ae6800dd0     1       Expert     Lava Hot     h     R     Jc   7   \n",
              "3  ...  8270f0d71     1  Grandmaster  Boiling Hot     i     D     kW   2   \n",
              "4  ...  b164b72a7     1  Grandmaster     Freezing     a     R     qP   7   \n",
              "5  ...  51e27c16d     1       Novice     Freezing     j     E     PZ   2   \n",
              "6  ...  7e3d79a0d     2  Grandmaster     Lava Hot     g     P     wy   5   \n",
              "7  ...  feb72ecc2     1       Novice     Lava Hot     j     K     Ed   4   \n",
              "8  ...  34a7273bf     2       Novice  Boiling Hot     e     V     qo   3   \n",
              "9  ...  0ece7a511     1       Expert     Freezing     h     Q     CZ   3   \n",
              "\n",
              "  month target  \n",
              "0     2      0  \n",
              "1     8      0  \n",
              "2     2      0  \n",
              "3     1      1  \n",
              "4     8      0  \n",
              "5     2      0  \n",
              "6     4      0  \n",
              "7     2      0  \n",
              "8     4      0  \n",
              "9     2      0  \n",
              "\n",
              "[10 rows x 25 columns]"
            ],
            "text/html": [
              "\n",
              "  <div id=\"df-05e8fd2f-10f1-46ed-b2bc-aaaefeeadaa0\">\n",
              "    <div class=\"colab-df-container\">\n",
              "      <div>\n",
              "<style scoped>\n",
              "    .dataframe tbody tr th:only-of-type {\n",
              "        vertical-align: middle;\n",
              "    }\n",
              "\n",
              "    .dataframe tbody tr th {\n",
              "        vertical-align: top;\n",
              "    }\n",
              "\n",
              "    .dataframe thead th {\n",
              "        text-align: right;\n",
              "    }\n",
              "</style>\n",
              "<table border=\"1\" class=\"dataframe\">\n",
              "  <thead>\n",
              "    <tr style=\"text-align: right;\">\n",
              "      <th></th>\n",
              "      <th>id</th>\n",
              "      <th>bin_0</th>\n",
              "      <th>bin_1</th>\n",
              "      <th>bin_2</th>\n",
              "      <th>bin_3</th>\n",
              "      <th>bin_4</th>\n",
              "      <th>nom_0</th>\n",
              "      <th>nom_1</th>\n",
              "      <th>nom_2</th>\n",
              "      <th>nom_3</th>\n",
              "      <th>...</th>\n",
              "      <th>nom_9</th>\n",
              "      <th>ord_0</th>\n",
              "      <th>ord_1</th>\n",
              "      <th>ord_2</th>\n",
              "      <th>ord_3</th>\n",
              "      <th>ord_4</th>\n",
              "      <th>ord_5</th>\n",
              "      <th>day</th>\n",
              "      <th>month</th>\n",
              "      <th>target</th>\n",
              "    </tr>\n",
              "  </thead>\n",
              "  <tbody>\n",
              "    <tr>\n",
              "      <th>0</th>\n",
              "      <td>0</td>\n",
              "      <td>0</td>\n",
              "      <td>0</td>\n",
              "      <td>0</td>\n",
              "      <td>T</td>\n",
              "      <td>Y</td>\n",
              "      <td>Green</td>\n",
              "      <td>Triangle</td>\n",
              "      <td>Snake</td>\n",
              "      <td>Finland</td>\n",
              "      <td>...</td>\n",
              "      <td>2f4cb3d51</td>\n",
              "      <td>2</td>\n",
              "      <td>Grandmaster</td>\n",
              "      <td>Cold</td>\n",
              "      <td>h</td>\n",
              "      <td>D</td>\n",
              "      <td>kr</td>\n",
              "      <td>2</td>\n",
              "      <td>2</td>\n",
              "      <td>0</td>\n",
              "    </tr>\n",
              "    <tr>\n",
              "      <th>1</th>\n",
              "      <td>1</td>\n",
              "      <td>0</td>\n",
              "      <td>1</td>\n",
              "      <td>0</td>\n",
              "      <td>T</td>\n",
              "      <td>Y</td>\n",
              "      <td>Green</td>\n",
              "      <td>Trapezoid</td>\n",
              "      <td>Hamster</td>\n",
              "      <td>Russia</td>\n",
              "      <td>...</td>\n",
              "      <td>f83c56c21</td>\n",
              "      <td>1</td>\n",
              "      <td>Grandmaster</td>\n",
              "      <td>Hot</td>\n",
              "      <td>a</td>\n",
              "      <td>A</td>\n",
              "      <td>bF</td>\n",
              "      <td>7</td>\n",
              "      <td>8</td>\n",
              "      <td>0</td>\n",
              "    </tr>\n",
              "    <tr>\n",
              "      <th>2</th>\n",
              "      <td>2</td>\n",
              "      <td>0</td>\n",
              "      <td>0</td>\n",
              "      <td>0</td>\n",
              "      <td>F</td>\n",
              "      <td>Y</td>\n",
              "      <td>Blue</td>\n",
              "      <td>Trapezoid</td>\n",
              "      <td>Lion</td>\n",
              "      <td>Russia</td>\n",
              "      <td>...</td>\n",
              "      <td>ae6800dd0</td>\n",
              "      <td>1</td>\n",
              "      <td>Expert</td>\n",
              "      <td>Lava Hot</td>\n",
              "      <td>h</td>\n",
              "      <td>R</td>\n",
              "      <td>Jc</td>\n",
              "      <td>7</td>\n",
              "      <td>2</td>\n",
              "      <td>0</td>\n",
              "    </tr>\n",
              "    <tr>\n",
              "      <th>3</th>\n",
              "      <td>3</td>\n",
              "      <td>0</td>\n",
              "      <td>1</td>\n",
              "      <td>0</td>\n",
              "      <td>F</td>\n",
              "      <td>Y</td>\n",
              "      <td>Red</td>\n",
              "      <td>Trapezoid</td>\n",
              "      <td>Snake</td>\n",
              "      <td>Canada</td>\n",
              "      <td>...</td>\n",
              "      <td>8270f0d71</td>\n",
              "      <td>1</td>\n",
              "      <td>Grandmaster</td>\n",
              "      <td>Boiling Hot</td>\n",
              "      <td>i</td>\n",
              "      <td>D</td>\n",
              "      <td>kW</td>\n",
              "      <td>2</td>\n",
              "      <td>1</td>\n",
              "      <td>1</td>\n",
              "    </tr>\n",
              "    <tr>\n",
              "      <th>4</th>\n",
              "      <td>4</td>\n",
              "      <td>0</td>\n",
              "      <td>0</td>\n",
              "      <td>0</td>\n",
              "      <td>F</td>\n",
              "      <td>N</td>\n",
              "      <td>Red</td>\n",
              "      <td>Trapezoid</td>\n",
              "      <td>Lion</td>\n",
              "      <td>Canada</td>\n",
              "      <td>...</td>\n",
              "      <td>b164b72a7</td>\n",
              "      <td>1</td>\n",
              "      <td>Grandmaster</td>\n",
              "      <td>Freezing</td>\n",
              "      <td>a</td>\n",
              "      <td>R</td>\n",
              "      <td>qP</td>\n",
              "      <td>7</td>\n",
              "      <td>8</td>\n",
              "      <td>0</td>\n",
              "    </tr>\n",
              "    <tr>\n",
              "      <th>5</th>\n",
              "      <td>5</td>\n",
              "      <td>0</td>\n",
              "      <td>1</td>\n",
              "      <td>1</td>\n",
              "      <td>T</td>\n",
              "      <td>N</td>\n",
              "      <td>Blue</td>\n",
              "      <td>Polygon</td>\n",
              "      <td>Lion</td>\n",
              "      <td>Costa Rica</td>\n",
              "      <td>...</td>\n",
              "      <td>51e27c16d</td>\n",
              "      <td>1</td>\n",
              "      <td>Novice</td>\n",
              "      <td>Freezing</td>\n",
              "      <td>j</td>\n",
              "      <td>E</td>\n",
              "      <td>PZ</td>\n",
              "      <td>2</td>\n",
              "      <td>2</td>\n",
              "      <td>0</td>\n",
              "    </tr>\n",
              "    <tr>\n",
              "      <th>6</th>\n",
              "      <td>6</td>\n",
              "      <td>0</td>\n",
              "      <td>1</td>\n",
              "      <td>1</td>\n",
              "      <td>T</td>\n",
              "      <td>N</td>\n",
              "      <td>Green</td>\n",
              "      <td>Trapezoid</td>\n",
              "      <td>Cat</td>\n",
              "      <td>China</td>\n",
              "      <td>...</td>\n",
              "      <td>7e3d79a0d</td>\n",
              "      <td>2</td>\n",
              "      <td>Grandmaster</td>\n",
              "      <td>Lava Hot</td>\n",
              "      <td>g</td>\n",
              "      <td>P</td>\n",
              "      <td>wy</td>\n",
              "      <td>5</td>\n",
              "      <td>4</td>\n",
              "      <td>0</td>\n",
              "    </tr>\n",
              "    <tr>\n",
              "      <th>7</th>\n",
              "      <td>7</td>\n",
              "      <td>1</td>\n",
              "      <td>0</td>\n",
              "      <td>1</td>\n",
              "      <td>T</td>\n",
              "      <td>Y</td>\n",
              "      <td>Red</td>\n",
              "      <td>Triangle</td>\n",
              "      <td>Dog</td>\n",
              "      <td>Russia</td>\n",
              "      <td>...</td>\n",
              "      <td>feb72ecc2</td>\n",
              "      <td>1</td>\n",
              "      <td>Novice</td>\n",
              "      <td>Lava Hot</td>\n",
              "      <td>j</td>\n",
              "      <td>K</td>\n",
              "      <td>Ed</td>\n",
              "      <td>4</td>\n",
              "      <td>2</td>\n",
              "      <td>0</td>\n",
              "    </tr>\n",
              "    <tr>\n",
              "      <th>8</th>\n",
              "      <td>8</td>\n",
              "      <td>1</td>\n",
              "      <td>0</td>\n",
              "      <td>1</td>\n",
              "      <td>T</td>\n",
              "      <td>Y</td>\n",
              "      <td>Blue</td>\n",
              "      <td>Square</td>\n",
              "      <td>Hamster</td>\n",
              "      <td>Canada</td>\n",
              "      <td>...</td>\n",
              "      <td>34a7273bf</td>\n",
              "      <td>2</td>\n",
              "      <td>Novice</td>\n",
              "      <td>Boiling Hot</td>\n",
              "      <td>e</td>\n",
              "      <td>V</td>\n",
              "      <td>qo</td>\n",
              "      <td>3</td>\n",
              "      <td>4</td>\n",
              "      <td>0</td>\n",
              "    </tr>\n",
              "    <tr>\n",
              "      <th>9</th>\n",
              "      <td>9</td>\n",
              "      <td>0</td>\n",
              "      <td>0</td>\n",
              "      <td>0</td>\n",
              "      <td>F</td>\n",
              "      <td>Y</td>\n",
              "      <td>Red</td>\n",
              "      <td>Trapezoid</td>\n",
              "      <td>Lion</td>\n",
              "      <td>China</td>\n",
              "      <td>...</td>\n",
              "      <td>0ece7a511</td>\n",
              "      <td>1</td>\n",
              "      <td>Expert</td>\n",
              "      <td>Freezing</td>\n",
              "      <td>h</td>\n",
              "      <td>Q</td>\n",
              "      <td>CZ</td>\n",
              "      <td>3</td>\n",
              "      <td>2</td>\n",
              "      <td>0</td>\n",
              "    </tr>\n",
              "  </tbody>\n",
              "</table>\n",
              "<p>10 rows × 25 columns</p>\n",
              "</div>\n",
              "      <button class=\"colab-df-convert\" onclick=\"convertToInteractive('df-05e8fd2f-10f1-46ed-b2bc-aaaefeeadaa0')\"\n",
              "              title=\"Convert this dataframe to an interactive table.\"\n",
              "              style=\"display:none;\">\n",
              "        \n",
              "  <svg xmlns=\"http://www.w3.org/2000/svg\" height=\"24px\"viewBox=\"0 0 24 24\"\n",
              "       width=\"24px\">\n",
              "    <path d=\"M0 0h24v24H0V0z\" fill=\"none\"/>\n",
              "    <path d=\"M18.56 5.44l.94 2.06.94-2.06 2.06-.94-2.06-.94-.94-2.06-.94 2.06-2.06.94zm-11 1L8.5 8.5l.94-2.06 2.06-.94-2.06-.94L8.5 2.5l-.94 2.06-2.06.94zm10 10l.94 2.06.94-2.06 2.06-.94-2.06-.94-.94-2.06-.94 2.06-2.06.94z\"/><path d=\"M17.41 7.96l-1.37-1.37c-.4-.4-.92-.59-1.43-.59-.52 0-1.04.2-1.43.59L10.3 9.45l-7.72 7.72c-.78.78-.78 2.05 0 2.83L4 21.41c.39.39.9.59 1.41.59.51 0 1.02-.2 1.41-.59l7.78-7.78 2.81-2.81c.8-.78.8-2.07 0-2.86zM5.41 20L4 18.59l7.72-7.72 1.47 1.35L5.41 20z\"/>\n",
              "  </svg>\n",
              "      </button>\n",
              "      \n",
              "  <style>\n",
              "    .colab-df-container {\n",
              "      display:flex;\n",
              "      flex-wrap:wrap;\n",
              "      gap: 12px;\n",
              "    }\n",
              "\n",
              "    .colab-df-convert {\n",
              "      background-color: #E8F0FE;\n",
              "      border: none;\n",
              "      border-radius: 50%;\n",
              "      cursor: pointer;\n",
              "      display: none;\n",
              "      fill: #1967D2;\n",
              "      height: 32px;\n",
              "      padding: 0 0 0 0;\n",
              "      width: 32px;\n",
              "    }\n",
              "\n",
              "    .colab-df-convert:hover {\n",
              "      background-color: #E2EBFA;\n",
              "      box-shadow: 0px 1px 2px rgba(60, 64, 67, 0.3), 0px 1px 3px 1px rgba(60, 64, 67, 0.15);\n",
              "      fill: #174EA6;\n",
              "    }\n",
              "\n",
              "    [theme=dark] .colab-df-convert {\n",
              "      background-color: #3B4455;\n",
              "      fill: #D2E3FC;\n",
              "    }\n",
              "\n",
              "    [theme=dark] .colab-df-convert:hover {\n",
              "      background-color: #434B5C;\n",
              "      box-shadow: 0px 1px 3px 1px rgba(0, 0, 0, 0.15);\n",
              "      filter: drop-shadow(0px 1px 2px rgba(0, 0, 0, 0.3));\n",
              "      fill: #FFFFFF;\n",
              "    }\n",
              "  </style>\n",
              "\n",
              "      <script>\n",
              "        const buttonEl =\n",
              "          document.querySelector('#df-05e8fd2f-10f1-46ed-b2bc-aaaefeeadaa0 button.colab-df-convert');\n",
              "        buttonEl.style.display =\n",
              "          google.colab.kernel.accessAllowed ? 'block' : 'none';\n",
              "\n",
              "        async function convertToInteractive(key) {\n",
              "          const element = document.querySelector('#df-05e8fd2f-10f1-46ed-b2bc-aaaefeeadaa0');\n",
              "          const dataTable =\n",
              "            await google.colab.kernel.invokeFunction('convertToInteractive',\n",
              "                                                     [key], {});\n",
              "          if (!dataTable) return;\n",
              "\n",
              "          const docLinkHtml = 'Like what you see? Visit the ' +\n",
              "            '<a target=\"_blank\" href=https://colab.research.google.com/notebooks/data_table.ipynb>data table notebook</a>'\n",
              "            + ' to learn more about interactive tables.';\n",
              "          element.innerHTML = '';\n",
              "          dataTable['output_type'] = 'display_data';\n",
              "          await google.colab.output.renderOutput(dataTable, element);\n",
              "          const docLink = document.createElement('div');\n",
              "          docLink.innerHTML = docLinkHtml;\n",
              "          element.appendChild(docLink);\n",
              "        }\n",
              "      </script>\n",
              "    </div>\n",
              "  </div>\n",
              "  "
            ]
          },
          "metadata": {},
          "execution_count": 66
        }
      ]
    },
    {
      "cell_type": "code",
      "source": [
        "test_df = pd.read_csv(\"test.csv\")\n",
        "test_df['target'] = -1\n",
        "test_df.head(10)"
      ],
      "metadata": {
        "colab": {
          "base_uri": "https://localhost:8080/",
          "height": 543
        },
        "id": "kqSFMKQSKbRY",
        "outputId": "b7801d6d-91a1-48b2-fa9a-2fd24635662c"
      },
      "execution_count": 67,
      "outputs": [
        {
          "output_type": "execute_result",
          "data": {
            "text/plain": [
              "       id  bin_0  bin_1  bin_2 bin_3 bin_4  nom_0      nom_1    nom_2  \\\n",
              "0  300000      0      0      1     T     Y   Blue   Triangle  Axolotl   \n",
              "1  300001      0      0      0     T     N    Red     Square     Lion   \n",
              "2  300002      1      0      1     F     Y   Blue     Square      Dog   \n",
              "3  300003      0      0      1     T     Y    Red       Star      Cat   \n",
              "4  300004      0      1      1     F     N    Red  Trapezoid      Dog   \n",
              "5  300005      0      0      0     F     Y   Blue  Trapezoid      Cat   \n",
              "6  300006      0      0      0     T     Y  Green    Polygon      Cat   \n",
              "7  300007      0      0      0     T     N  Green  Trapezoid  Axolotl   \n",
              "8  300008      0      1      1     T     N    Red     Square      Dog   \n",
              "9  300009      0      0      0     T     N  Green    Polygon  Axolotl   \n",
              "\n",
              "     nom_3  ...      nom_9 ord_0        ord_1        ord_2 ord_3 ord_4  ord_5  \\\n",
              "0  Finland  ...  3c49b42b8     2       Novice         Warm     j     P     be   \n",
              "1   Canada  ...  285771075     1       Master     Lava Hot     l     A     RP   \n",
              "2    China  ...  6f323c53f     2       Expert     Freezing     a     G     tP   \n",
              "3    China  ...  b5de3dcc4     1  Contributor     Lava Hot     b     Q     ke   \n",
              "4    China  ...  967cfa9c9     3  Grandmaster     Lava Hot     l     W     qK   \n",
              "5   Russia  ...  8c6182ca8     1  Grandmaster     Freezing     b     W     sn   \n",
              "6    India  ...  d45567849     1  Contributor     Freezing     j     O     qP   \n",
              "7   Russia  ...  985eabf13     3  Contributor     Freezing     j     A     KZ   \n",
              "8    China  ...  f0ca30ac1     2  Contributor  Boiling Hot     k     Q     aM   \n",
              "9  Finland  ...  9bbf75daa     2       Novice     Lava Hot     h     K     xy   \n",
              "\n",
              "  day month target  \n",
              "0   5    11     -1  \n",
              "1   7     5     -1  \n",
              "2   1    12     -1  \n",
              "3   2     3     -1  \n",
              "4   4    11     -1  \n",
              "5   2     9     -1  \n",
              "6   4     9     -1  \n",
              "7   3     1     -1  \n",
              "8   7     3     -1  \n",
              "9   4     1     -1  \n",
              "\n",
              "[10 rows x 25 columns]"
            ],
            "text/html": [
              "\n",
              "  <div id=\"df-d3a070b6-4c68-4887-b5b3-ff2c00092d71\">\n",
              "    <div class=\"colab-df-container\">\n",
              "      <div>\n",
              "<style scoped>\n",
              "    .dataframe tbody tr th:only-of-type {\n",
              "        vertical-align: middle;\n",
              "    }\n",
              "\n",
              "    .dataframe tbody tr th {\n",
              "        vertical-align: top;\n",
              "    }\n",
              "\n",
              "    .dataframe thead th {\n",
              "        text-align: right;\n",
              "    }\n",
              "</style>\n",
              "<table border=\"1\" class=\"dataframe\">\n",
              "  <thead>\n",
              "    <tr style=\"text-align: right;\">\n",
              "      <th></th>\n",
              "      <th>id</th>\n",
              "      <th>bin_0</th>\n",
              "      <th>bin_1</th>\n",
              "      <th>bin_2</th>\n",
              "      <th>bin_3</th>\n",
              "      <th>bin_4</th>\n",
              "      <th>nom_0</th>\n",
              "      <th>nom_1</th>\n",
              "      <th>nom_2</th>\n",
              "      <th>nom_3</th>\n",
              "      <th>...</th>\n",
              "      <th>nom_9</th>\n",
              "      <th>ord_0</th>\n",
              "      <th>ord_1</th>\n",
              "      <th>ord_2</th>\n",
              "      <th>ord_3</th>\n",
              "      <th>ord_4</th>\n",
              "      <th>ord_5</th>\n",
              "      <th>day</th>\n",
              "      <th>month</th>\n",
              "      <th>target</th>\n",
              "    </tr>\n",
              "  </thead>\n",
              "  <tbody>\n",
              "    <tr>\n",
              "      <th>0</th>\n",
              "      <td>300000</td>\n",
              "      <td>0</td>\n",
              "      <td>0</td>\n",
              "      <td>1</td>\n",
              "      <td>T</td>\n",
              "      <td>Y</td>\n",
              "      <td>Blue</td>\n",
              "      <td>Triangle</td>\n",
              "      <td>Axolotl</td>\n",
              "      <td>Finland</td>\n",
              "      <td>...</td>\n",
              "      <td>3c49b42b8</td>\n",
              "      <td>2</td>\n",
              "      <td>Novice</td>\n",
              "      <td>Warm</td>\n",
              "      <td>j</td>\n",
              "      <td>P</td>\n",
              "      <td>be</td>\n",
              "      <td>5</td>\n",
              "      <td>11</td>\n",
              "      <td>-1</td>\n",
              "    </tr>\n",
              "    <tr>\n",
              "      <th>1</th>\n",
              "      <td>300001</td>\n",
              "      <td>0</td>\n",
              "      <td>0</td>\n",
              "      <td>0</td>\n",
              "      <td>T</td>\n",
              "      <td>N</td>\n",
              "      <td>Red</td>\n",
              "      <td>Square</td>\n",
              "      <td>Lion</td>\n",
              "      <td>Canada</td>\n",
              "      <td>...</td>\n",
              "      <td>285771075</td>\n",
              "      <td>1</td>\n",
              "      <td>Master</td>\n",
              "      <td>Lava Hot</td>\n",
              "      <td>l</td>\n",
              "      <td>A</td>\n",
              "      <td>RP</td>\n",
              "      <td>7</td>\n",
              "      <td>5</td>\n",
              "      <td>-1</td>\n",
              "    </tr>\n",
              "    <tr>\n",
              "      <th>2</th>\n",
              "      <td>300002</td>\n",
              "      <td>1</td>\n",
              "      <td>0</td>\n",
              "      <td>1</td>\n",
              "      <td>F</td>\n",
              "      <td>Y</td>\n",
              "      <td>Blue</td>\n",
              "      <td>Square</td>\n",
              "      <td>Dog</td>\n",
              "      <td>China</td>\n",
              "      <td>...</td>\n",
              "      <td>6f323c53f</td>\n",
              "      <td>2</td>\n",
              "      <td>Expert</td>\n",
              "      <td>Freezing</td>\n",
              "      <td>a</td>\n",
              "      <td>G</td>\n",
              "      <td>tP</td>\n",
              "      <td>1</td>\n",
              "      <td>12</td>\n",
              "      <td>-1</td>\n",
              "    </tr>\n",
              "    <tr>\n",
              "      <th>3</th>\n",
              "      <td>300003</td>\n",
              "      <td>0</td>\n",
              "      <td>0</td>\n",
              "      <td>1</td>\n",
              "      <td>T</td>\n",
              "      <td>Y</td>\n",
              "      <td>Red</td>\n",
              "      <td>Star</td>\n",
              "      <td>Cat</td>\n",
              "      <td>China</td>\n",
              "      <td>...</td>\n",
              "      <td>b5de3dcc4</td>\n",
              "      <td>1</td>\n",
              "      <td>Contributor</td>\n",
              "      <td>Lava Hot</td>\n",
              "      <td>b</td>\n",
              "      <td>Q</td>\n",
              "      <td>ke</td>\n",
              "      <td>2</td>\n",
              "      <td>3</td>\n",
              "      <td>-1</td>\n",
              "    </tr>\n",
              "    <tr>\n",
              "      <th>4</th>\n",
              "      <td>300004</td>\n",
              "      <td>0</td>\n",
              "      <td>1</td>\n",
              "      <td>1</td>\n",
              "      <td>F</td>\n",
              "      <td>N</td>\n",
              "      <td>Red</td>\n",
              "      <td>Trapezoid</td>\n",
              "      <td>Dog</td>\n",
              "      <td>China</td>\n",
              "      <td>...</td>\n",
              "      <td>967cfa9c9</td>\n",
              "      <td>3</td>\n",
              "      <td>Grandmaster</td>\n",
              "      <td>Lava Hot</td>\n",
              "      <td>l</td>\n",
              "      <td>W</td>\n",
              "      <td>qK</td>\n",
              "      <td>4</td>\n",
              "      <td>11</td>\n",
              "      <td>-1</td>\n",
              "    </tr>\n",
              "    <tr>\n",
              "      <th>5</th>\n",
              "      <td>300005</td>\n",
              "      <td>0</td>\n",
              "      <td>0</td>\n",
              "      <td>0</td>\n",
              "      <td>F</td>\n",
              "      <td>Y</td>\n",
              "      <td>Blue</td>\n",
              "      <td>Trapezoid</td>\n",
              "      <td>Cat</td>\n",
              "      <td>Russia</td>\n",
              "      <td>...</td>\n",
              "      <td>8c6182ca8</td>\n",
              "      <td>1</td>\n",
              "      <td>Grandmaster</td>\n",
              "      <td>Freezing</td>\n",
              "      <td>b</td>\n",
              "      <td>W</td>\n",
              "      <td>sn</td>\n",
              "      <td>2</td>\n",
              "      <td>9</td>\n",
              "      <td>-1</td>\n",
              "    </tr>\n",
              "    <tr>\n",
              "      <th>6</th>\n",
              "      <td>300006</td>\n",
              "      <td>0</td>\n",
              "      <td>0</td>\n",
              "      <td>0</td>\n",
              "      <td>T</td>\n",
              "      <td>Y</td>\n",
              "      <td>Green</td>\n",
              "      <td>Polygon</td>\n",
              "      <td>Cat</td>\n",
              "      <td>India</td>\n",
              "      <td>...</td>\n",
              "      <td>d45567849</td>\n",
              "      <td>1</td>\n",
              "      <td>Contributor</td>\n",
              "      <td>Freezing</td>\n",
              "      <td>j</td>\n",
              "      <td>O</td>\n",
              "      <td>qP</td>\n",
              "      <td>4</td>\n",
              "      <td>9</td>\n",
              "      <td>-1</td>\n",
              "    </tr>\n",
              "    <tr>\n",
              "      <th>7</th>\n",
              "      <td>300007</td>\n",
              "      <td>0</td>\n",
              "      <td>0</td>\n",
              "      <td>0</td>\n",
              "      <td>T</td>\n",
              "      <td>N</td>\n",
              "      <td>Green</td>\n",
              "      <td>Trapezoid</td>\n",
              "      <td>Axolotl</td>\n",
              "      <td>Russia</td>\n",
              "      <td>...</td>\n",
              "      <td>985eabf13</td>\n",
              "      <td>3</td>\n",
              "      <td>Contributor</td>\n",
              "      <td>Freezing</td>\n",
              "      <td>j</td>\n",
              "      <td>A</td>\n",
              "      <td>KZ</td>\n",
              "      <td>3</td>\n",
              "      <td>1</td>\n",
              "      <td>-1</td>\n",
              "    </tr>\n",
              "    <tr>\n",
              "      <th>8</th>\n",
              "      <td>300008</td>\n",
              "      <td>0</td>\n",
              "      <td>1</td>\n",
              "      <td>1</td>\n",
              "      <td>T</td>\n",
              "      <td>N</td>\n",
              "      <td>Red</td>\n",
              "      <td>Square</td>\n",
              "      <td>Dog</td>\n",
              "      <td>China</td>\n",
              "      <td>...</td>\n",
              "      <td>f0ca30ac1</td>\n",
              "      <td>2</td>\n",
              "      <td>Contributor</td>\n",
              "      <td>Boiling Hot</td>\n",
              "      <td>k</td>\n",
              "      <td>Q</td>\n",
              "      <td>aM</td>\n",
              "      <td>7</td>\n",
              "      <td>3</td>\n",
              "      <td>-1</td>\n",
              "    </tr>\n",
              "    <tr>\n",
              "      <th>9</th>\n",
              "      <td>300009</td>\n",
              "      <td>0</td>\n",
              "      <td>0</td>\n",
              "      <td>0</td>\n",
              "      <td>T</td>\n",
              "      <td>N</td>\n",
              "      <td>Green</td>\n",
              "      <td>Polygon</td>\n",
              "      <td>Axolotl</td>\n",
              "      <td>Finland</td>\n",
              "      <td>...</td>\n",
              "      <td>9bbf75daa</td>\n",
              "      <td>2</td>\n",
              "      <td>Novice</td>\n",
              "      <td>Lava Hot</td>\n",
              "      <td>h</td>\n",
              "      <td>K</td>\n",
              "      <td>xy</td>\n",
              "      <td>4</td>\n",
              "      <td>1</td>\n",
              "      <td>-1</td>\n",
              "    </tr>\n",
              "  </tbody>\n",
              "</table>\n",
              "<p>10 rows × 25 columns</p>\n",
              "</div>\n",
              "      <button class=\"colab-df-convert\" onclick=\"convertToInteractive('df-d3a070b6-4c68-4887-b5b3-ff2c00092d71')\"\n",
              "              title=\"Convert this dataframe to an interactive table.\"\n",
              "              style=\"display:none;\">\n",
              "        \n",
              "  <svg xmlns=\"http://www.w3.org/2000/svg\" height=\"24px\"viewBox=\"0 0 24 24\"\n",
              "       width=\"24px\">\n",
              "    <path d=\"M0 0h24v24H0V0z\" fill=\"none\"/>\n",
              "    <path d=\"M18.56 5.44l.94 2.06.94-2.06 2.06-.94-2.06-.94-.94-2.06-.94 2.06-2.06.94zm-11 1L8.5 8.5l.94-2.06 2.06-.94-2.06-.94L8.5 2.5l-.94 2.06-2.06.94zm10 10l.94 2.06.94-2.06 2.06-.94-2.06-.94-.94-2.06-.94 2.06-2.06.94z\"/><path d=\"M17.41 7.96l-1.37-1.37c-.4-.4-.92-.59-1.43-.59-.52 0-1.04.2-1.43.59L10.3 9.45l-7.72 7.72c-.78.78-.78 2.05 0 2.83L4 21.41c.39.39.9.59 1.41.59.51 0 1.02-.2 1.41-.59l7.78-7.78 2.81-2.81c.8-.78.8-2.07 0-2.86zM5.41 20L4 18.59l7.72-7.72 1.47 1.35L5.41 20z\"/>\n",
              "  </svg>\n",
              "      </button>\n",
              "      \n",
              "  <style>\n",
              "    .colab-df-container {\n",
              "      display:flex;\n",
              "      flex-wrap:wrap;\n",
              "      gap: 12px;\n",
              "    }\n",
              "\n",
              "    .colab-df-convert {\n",
              "      background-color: #E8F0FE;\n",
              "      border: none;\n",
              "      border-radius: 50%;\n",
              "      cursor: pointer;\n",
              "      display: none;\n",
              "      fill: #1967D2;\n",
              "      height: 32px;\n",
              "      padding: 0 0 0 0;\n",
              "      width: 32px;\n",
              "    }\n",
              "\n",
              "    .colab-df-convert:hover {\n",
              "      background-color: #E2EBFA;\n",
              "      box-shadow: 0px 1px 2px rgba(60, 64, 67, 0.3), 0px 1px 3px 1px rgba(60, 64, 67, 0.15);\n",
              "      fill: #174EA6;\n",
              "    }\n",
              "\n",
              "    [theme=dark] .colab-df-convert {\n",
              "      background-color: #3B4455;\n",
              "      fill: #D2E3FC;\n",
              "    }\n",
              "\n",
              "    [theme=dark] .colab-df-convert:hover {\n",
              "      background-color: #434B5C;\n",
              "      box-shadow: 0px 1px 3px 1px rgba(0, 0, 0, 0.15);\n",
              "      filter: drop-shadow(0px 1px 2px rgba(0, 0, 0, 0.3));\n",
              "      fill: #FFFFFF;\n",
              "    }\n",
              "  </style>\n",
              "\n",
              "      <script>\n",
              "        const buttonEl =\n",
              "          document.querySelector('#df-d3a070b6-4c68-4887-b5b3-ff2c00092d71 button.colab-df-convert');\n",
              "        buttonEl.style.display =\n",
              "          google.colab.kernel.accessAllowed ? 'block' : 'none';\n",
              "\n",
              "        async function convertToInteractive(key) {\n",
              "          const element = document.querySelector('#df-d3a070b6-4c68-4887-b5b3-ff2c00092d71');\n",
              "          const dataTable =\n",
              "            await google.colab.kernel.invokeFunction('convertToInteractive',\n",
              "                                                     [key], {});\n",
              "          if (!dataTable) return;\n",
              "\n",
              "          const docLinkHtml = 'Like what you see? Visit the ' +\n",
              "            '<a target=\"_blank\" href=https://colab.research.google.com/notebooks/data_table.ipynb>data table notebook</a>'\n",
              "            + ' to learn more about interactive tables.';\n",
              "          element.innerHTML = '';\n",
              "          dataTable['output_type'] = 'display_data';\n",
              "          await google.colab.output.renderOutput(dataTable, element);\n",
              "          const docLink = document.createElement('div');\n",
              "          docLink.innerHTML = docLinkHtml;\n",
              "          element.appendChild(docLink);\n",
              "        }\n",
              "      </script>\n",
              "    </div>\n",
              "  </div>\n",
              "  "
            ]
          },
          "metadata": {},
          "execution_count": 67
        }
      ]
    },
    {
      "cell_type": "code",
      "source": [
        "merged = pd.concat([train_df, test_df], axis=0)"
      ],
      "metadata": {
        "id": "ZWS2ZBPZKos1"
      },
      "execution_count": 68,
      "outputs": []
    },
    {
      "cell_type": "code",
      "source": [
        "merged.info()"
      ],
      "metadata": {
        "colab": {
          "base_uri": "https://localhost:8080/"
        },
        "id": "Firy83KyKt3g",
        "outputId": "724f6046-4f44-4fbc-9ade-375859ce38fb"
      },
      "execution_count": 69,
      "outputs": [
        {
          "output_type": "stream",
          "name": "stdout",
          "text": [
            "<class 'pandas.core.frame.DataFrame'>\n",
            "Int64Index: 500000 entries, 0 to 199999\n",
            "Data columns (total 25 columns):\n",
            " #   Column  Non-Null Count   Dtype \n",
            "---  ------  --------------   ----- \n",
            " 0   id      500000 non-null  int64 \n",
            " 1   bin_0   500000 non-null  int64 \n",
            " 2   bin_1   500000 non-null  int64 \n",
            " 3   bin_2   500000 non-null  int64 \n",
            " 4   bin_3   500000 non-null  object\n",
            " 5   bin_4   500000 non-null  object\n",
            " 6   nom_0   500000 non-null  object\n",
            " 7   nom_1   500000 non-null  object\n",
            " 8   nom_2   500000 non-null  object\n",
            " 9   nom_3   500000 non-null  object\n",
            " 10  nom_4   500000 non-null  object\n",
            " 11  nom_5   500000 non-null  object\n",
            " 12  nom_6   500000 non-null  object\n",
            " 13  nom_7   500000 non-null  object\n",
            " 14  nom_8   500000 non-null  object\n",
            " 15  nom_9   500000 non-null  object\n",
            " 16  ord_0   500000 non-null  int64 \n",
            " 17  ord_1   500000 non-null  object\n",
            " 18  ord_2   500000 non-null  object\n",
            " 19  ord_3   500000 non-null  object\n",
            " 20  ord_4   500000 non-null  object\n",
            " 21  ord_5   500000 non-null  object\n",
            " 22  day     500000 non-null  int64 \n",
            " 23  month   500000 non-null  int64 \n",
            " 24  target  500000 non-null  int64 \n",
            "dtypes: int64(8), object(17)\n",
            "memory usage: 99.2+ MB\n"
          ]
        }
      ]
    },
    {
      "cell_type": "markdown",
      "source": [
        "The dataset contains no Null values"
      ],
      "metadata": {
        "id": "bxUBD4ECvx3n"
      }
    },
    {
      "cell_type": "code",
      "source": [
        "for column in train_df:\n",
        "    print(column, \" unique value length: \", len(merged[column].unique()))"
      ],
      "metadata": {
        "colab": {
          "base_uri": "https://localhost:8080/"
        },
        "id": "CpMIiIY4vEOD",
        "outputId": "5cb7086d-c1d0-4f93-99a4-1caebbc2bf58"
      },
      "execution_count": 70,
      "outputs": [
        {
          "output_type": "stream",
          "name": "stdout",
          "text": [
            "id  unique value length:  500000\n",
            "bin_0  unique value length:  2\n",
            "bin_1  unique value length:  2\n",
            "bin_2  unique value length:  2\n",
            "bin_3  unique value length:  2\n",
            "bin_4  unique value length:  2\n",
            "nom_0  unique value length:  3\n",
            "nom_1  unique value length:  6\n",
            "nom_2  unique value length:  6\n",
            "nom_3  unique value length:  6\n",
            "nom_4  unique value length:  4\n",
            "nom_5  unique value length:  222\n",
            "nom_6  unique value length:  522\n",
            "nom_7  unique value length:  1220\n",
            "nom_8  unique value length:  2219\n",
            "nom_9  unique value length:  12068\n",
            "ord_0  unique value length:  3\n",
            "ord_1  unique value length:  5\n",
            "ord_2  unique value length:  6\n",
            "ord_3  unique value length:  15\n",
            "ord_4  unique value length:  26\n",
            "ord_5  unique value length:  192\n",
            "day  unique value length:  7\n",
            "month  unique value length:  12\n",
            "target  unique value length:  3\n"
          ]
        }
      ]
    },
    {
      "cell_type": "markdown",
      "source": [
        "## **FEATURE ENCODING:** Train"
      ],
      "metadata": {
        "id": "zvCmXg9_wgVd"
      }
    },
    {
      "cell_type": "markdown",
      "source": [
        "**Feature Encoding**\n",
        "\n",
        "Assumptions:\n",
        "*   Binary: One hot encoding vs Values (Experimentation: as true or false or positive and negative values can have meaning)\n",
        "*   Nominal: One hot encoding\n",
        "*   Ordinal: Increasing values to have weights\n",
        "\n"
      ],
      "metadata": {
        "id": "Mh0LCMFBv7ti"
      }
    },
    {
      "cell_type": "markdown",
      "source": [
        "### NOMINAL FEATURES"
      ],
      "metadata": {
        "id": "7RFXFbjVwmBA"
      }
    },
    {
      "cell_type": "code",
      "source": [
        "for idx in range(0, 5):\n",
        "    column = f'nom_{idx}'\n",
        "    temp = pd.get_dummies(merged[column], prefix=column)\n",
        "    merged = merged.drop(columns=[column])\n",
        "    merged = pd.concat([merged, temp], axis=1)"
      ],
      "metadata": {
        "id": "a9_HACpQx-iY"
      },
      "execution_count": 71,
      "outputs": []
    },
    {
      "cell_type": "code",
      "source": [
        "nom_le = preprocessing.LabelEncoder()"
      ],
      "metadata": {
        "id": "KSyZWCHjzFlO"
      },
      "execution_count": 72,
      "outputs": []
    },
    {
      "cell_type": "code",
      "source": [
        "for idx in range(5, 10):\n",
        "    column = f'nom_{idx}'\n",
        "    nom_le.fit(merged[column])\n",
        "    merged[column] = nom_le.transform(merged[column])"
      ],
      "metadata": {
        "id": "zuCtk-YcypoA"
      },
      "execution_count": 73,
      "outputs": []
    },
    {
      "cell_type": "markdown",
      "source": [
        "### BINARY FEATURES"
      ],
      "metadata": {
        "id": "O5FcDQPHyp8V"
      }
    },
    {
      "cell_type": "code",
      "source": [
        "merged[f'bin_3'].replace({\"T\" : 1, \"F\" : 0}, inplace=True)\n",
        "merged[f'bin_4'].replace({\"Y\" : 1, \"N\" : 0}, inplace=True)"
      ],
      "metadata": {
        "id": "vc6wNiq4wMfH"
      },
      "execution_count": 74,
      "outputs": []
    },
    {
      "cell_type": "markdown",
      "source": [
        "### ORDINAL FEATURES"
      ],
      "metadata": {
        "id": "J07lhtvL0sui"
      }
    },
    {
      "cell_type": "code",
      "source": [
        "print(\"ord_0 unique value length: \", merged['ord_0'].unique())"
      ],
      "metadata": {
        "colab": {
          "base_uri": "https://localhost:8080/"
        },
        "id": "fiIfMmrfx3Id",
        "outputId": "0f10ec82-1ff0-4ec3-a820-47fb23fffd67"
      },
      "execution_count": 75,
      "outputs": [
        {
          "output_type": "stream",
          "name": "stdout",
          "text": [
            "ord_0 unique value length:  [2 1 3]\n"
          ]
        }
      ]
    },
    {
      "cell_type": "code",
      "source": [
        "print(\"ord_1 unique value length: \", merged['ord_1'].unique())"
      ],
      "metadata": {
        "colab": {
          "base_uri": "https://localhost:8080/"
        },
        "id": "UsVG6gXe1MFq",
        "outputId": "9571ef16-1df0-47ec-a640-1c8acb08d434"
      },
      "execution_count": 76,
      "outputs": [
        {
          "output_type": "stream",
          "name": "stdout",
          "text": [
            "ord_1 unique value length:  ['Grandmaster' 'Expert' 'Novice' 'Contributor' 'Master']\n"
          ]
        }
      ]
    },
    {
      "cell_type": "code",
      "source": [
        "merged[f'ord_1'].replace({\"Novice\" : 1, \"Contributor\" : 2, \"Expert\" : 3, \"Master\" : 4, \"Grandmaster\" : 5}, inplace=True)\n",
        "print(\"ord_1 unique value length: \", merged['ord_1'].unique())"
      ],
      "metadata": {
        "id": "IJ84y6M71YnB",
        "colab": {
          "base_uri": "https://localhost:8080/"
        },
        "outputId": "fe9713fd-d47a-4469-8bc4-ffb6b39f1c32"
      },
      "execution_count": 77,
      "outputs": [
        {
          "output_type": "stream",
          "name": "stdout",
          "text": [
            "ord_1 unique value length:  [5 3 1 2 4]\n"
          ]
        }
      ]
    },
    {
      "cell_type": "code",
      "source": [
        "print(\"ord_1 unique value length: \", merged['ord_2'].unique())"
      ],
      "metadata": {
        "colab": {
          "base_uri": "https://localhost:8080/"
        },
        "id": "YjNHmvnu1mPG",
        "outputId": "bbb19bc0-3a48-47fa-cabf-7dc68f3c6e8a"
      },
      "execution_count": 78,
      "outputs": [
        {
          "output_type": "stream",
          "name": "stdout",
          "text": [
            "ord_1 unique value length:  ['Cold' 'Hot' 'Lava Hot' 'Boiling Hot' 'Freezing' 'Warm']\n"
          ]
        }
      ]
    },
    {
      "cell_type": "code",
      "source": [
        "merged[f'ord_2'].replace({\"Freezing\" : 1, \"Cold\" : 2, \"Warm\" : 3, \"Hot\" : 4, \"Boiling Hot\" : 5, \"Lava Hot\" : 6}, inplace=True)\n",
        "print(\"ord_2 unique value length: \", merged['ord_2'].unique())"
      ],
      "metadata": {
        "colab": {
          "base_uri": "https://localhost:8080/"
        },
        "id": "ar3wdlxz1pvt",
        "outputId": "072fb63a-fbca-4156-e1b2-cac6a3357200"
      },
      "execution_count": 79,
      "outputs": [
        {
          "output_type": "stream",
          "name": "stdout",
          "text": [
            "ord_2 unique value length:  [2 4 6 5 1 3]\n"
          ]
        }
      ]
    },
    {
      "cell_type": "code",
      "source": [
        "print(\"ord_3 unique value length: \", merged['ord_3'].unique())"
      ],
      "metadata": {
        "colab": {
          "base_uri": "https://localhost:8080/"
        },
        "id": "BkjZlxxv2Fc7",
        "outputId": "28edd481-818c-49fc-f3ab-45a76d772df0"
      },
      "execution_count": 80,
      "outputs": [
        {
          "output_type": "stream",
          "name": "stdout",
          "text": [
            "ord_3 unique value length:  ['h' 'a' 'i' 'j' 'g' 'e' 'd' 'b' 'k' 'f' 'l' 'n' 'o' 'c' 'm']\n"
          ]
        }
      ]
    },
    {
      "cell_type": "code",
      "source": [
        "ord_le = preprocessing.LabelEncoder()"
      ],
      "metadata": {
        "id": "37t7d42I2Kny"
      },
      "execution_count": 81,
      "outputs": []
    },
    {
      "cell_type": "code",
      "source": [
        "ord_le.fit(train_df['ord_3'])\n",
        "merged['ord_3'] = ord_le.transform(merged['ord_3'])\n",
        "print(\"ord_3 unique value length: \", merged['ord_3'].unique())"
      ],
      "metadata": {
        "colab": {
          "base_uri": "https://localhost:8080/"
        },
        "id": "WxGCwYm_2esw",
        "outputId": "93f064c5-bd85-4bee-885b-6dcadb13f688"
      },
      "execution_count": 82,
      "outputs": [
        {
          "output_type": "stream",
          "name": "stdout",
          "text": [
            "ord_3 unique value length:  [ 7  0  8  9  6  4  3  1 10  5 11 13 14  2 12]\n"
          ]
        }
      ]
    },
    {
      "cell_type": "code",
      "source": [
        "print(\"ord_4 unique value length: \", merged['ord_4'].unique())\n",
        "ord_le.fit(merged['ord_4'])\n",
        "merged['ord_4'] = ord_le.transform(merged['ord_4'])\n",
        "print(\"ord_4 unique value length: \", merged['ord_4'].unique())"
      ],
      "metadata": {
        "colab": {
          "base_uri": "https://localhost:8080/"
        },
        "id": "9rZBcgk52wur",
        "outputId": "7b422337-e4bd-430d-c322-723e0196babd"
      },
      "execution_count": 83,
      "outputs": [
        {
          "output_type": "stream",
          "name": "stdout",
          "text": [
            "ord_4 unique value length:  ['D' 'A' 'R' 'E' 'P' 'K' 'V' 'Q' 'Z' 'L' 'F' 'T' 'U' 'S' 'Y' 'B' 'H' 'J'\n",
            " 'N' 'G' 'W' 'I' 'O' 'C' 'X' 'M']\n",
            "ord_4 unique value length:  [ 3  0 17  4 15 10 21 16 25 11  5 19 20 18 24  1  7  9 13  6 22  8 14  2\n",
            " 23 12]\n"
          ]
        }
      ]
    },
    {
      "cell_type": "code",
      "source": [
        "print(\"ord_5 unique value length: \", merged['ord_5'].unique())\n",
        "ord_le.fit(merged['ord_5'])\n",
        "merged['ord_5'] = ord_le.transform(merged['ord_5'])\n",
        "print(\"ord_5 unique value length: \", merged['ord_5'].unique())"
      ],
      "metadata": {
        "colab": {
          "base_uri": "https://localhost:8080/"
        },
        "id": "nWrfMvVb22B2",
        "outputId": "680fd4e7-35ed-4de5-960d-c99cc86e2011"
      },
      "execution_count": 84,
      "outputs": [
        {
          "output_type": "stream",
          "name": "stdout",
          "text": [
            "ord_5 unique value length:  ['kr' 'bF' 'Jc' 'kW' 'qP' 'PZ' 'wy' 'Ed' 'qo' 'CZ' 'qX' 'su' 'dP' 'aP'\n",
            " 'MV' 'oC' 'RL' 'fh' 'gJ' 'Hj' 'TR' 'CL' 'Sc' 'eQ' 'kC' 'qK' 'dh' 'gM'\n",
            " 'Jf' 'fO' 'Eg' 'KZ' 'Vx' 'Fo' 'sV' 'eb' 'YC' 'RG' 'Ye' 'qA' 'lL' 'Qh'\n",
            " 'Bd' 'be' 'hT' 'lF' 'nX' 'kK' 'av' 'uS' 'Jt' 'PA' 'Er' 'Qb' 'od' 'ut'\n",
            " 'Dx' 'Xi' 'on' 'Dc' 'sD' 'rZ' 'Uu' 'sn' 'yc' 'Gb' 'Kq' 'dQ' 'hp' 'kL'\n",
            " 'je' 'CU' 'Fd' 'PQ' 'Bn' 'ex' 'hh' 'ac' 'rp' 'dE' 'oG' 'oK' 'cp' 'mm'\n",
            " 'vK' 'ek' 'dO' 'XI' 'CM' 'Vf' 'aO' 'qv' 'jp' 'Zq' 'Qo' 'DN' 'TZ' 'ke'\n",
            " 'cG' 'tP' 'ud' 'tv' 'aM' 'xy' 'lx' 'To' 'uy' 'ZS' 'vy' 'ZR' 'AP' 'GJ'\n",
            " 'Wv' 'ri' 'qw' 'Xh' 'FI' 'nh' 'KR' 'dB' 'BE' 'Bb' 'mc' 'MC' 'tM' 'NV'\n",
            " 'ih' 'IK' 'Ob' 'RP' 'dN' 'us' 'dZ' 'yN' 'Nf' 'QM' 'jV' 'sY' 'wu' 'SB'\n",
            " 'UO' 'Mx' 'JX' 'Ry' 'Uk' 'uJ' 'LE' 'ps' 'kE' 'MO' 'kw' 'yY' 'zU' 'bJ'\n",
            " 'Kf' 'ck' 'mb' 'Os' 'Ps' 'Ml' 'Ai' 'Wc' 'GD' 'll' 'aF' 'iT' 'cA' 'WE'\n",
            " 'Gx' 'Nk' 'OR' 'Rm' 'BA' 'eG' 'cW' 'jS' 'DH' 'hL' 'Mf' 'Yb' 'Aj' 'oH'\n",
            " 'Zc' 'qJ' 'eg' 'xP' 'vq' 'Id' 'pa' 'ux' 'kU' 'Cl']\n",
            "ord_5 unique value length:  [136  93  31 134 158  53 185  17 160  11 159 170 105  90  41 147  60 116\n",
            " 117  27  66   8  65 110 129 157 108 118  32 115  18  35  73  22 167 111\n",
            "  80  59  82 155 139  57   6  95 120 138 145 131  92 175  33  51  19  56\n",
            " 151 178  16  79 152  15 166 163  71 169 190  25  37 106 122 132 127  10\n",
            "  21  52   7 114 121  91 165 102 148 150 100 144 181 113 104  77   9  72\n",
            "  89 161 128  86  58  14  67 135  97 172 176 173  88 187 141  68 180  84\n",
            " 183  83   0  24  76 164 162  78  20 146  34 101   4   5 143  39 171  45\n",
            " 124  28  49  61 103 177 107 188  46  55 126 168 184  64  69  44  30  63\n",
            "  70 174  38 154 130  40 137 189 191  94  36  99 142  50  54  43   1  75\n",
            "  23 140  87 123  96  74  26  47  48  62   3 109  98 125  13 119  42  81\n",
            "   2 149  85 156 112 186 182  29 153 179 133  12]\n"
          ]
        }
      ]
    },
    {
      "cell_type": "markdown",
      "source": [
        "## **SPLIT:** Train and Validation"
      ],
      "metadata": {
        "id": "lHcjHM8O29WY"
      }
    },
    {
      "cell_type": "code",
      "source": [
        "# for column in train_df:\n",
        "#     print(column, \" unique value length: \", train_df[column].unique())"
      ],
      "metadata": {
        "id": "imqNQapS4Mvh"
      },
      "execution_count": 85,
      "outputs": []
    },
    {
      "cell_type": "code",
      "source": [
        "train_df = merged[merged['target'] != -1]\n",
        "test_df = merged[merged['target'] == -1]"
      ],
      "metadata": {
        "id": "ZfIVKC1ZLbj7"
      },
      "execution_count": 86,
      "outputs": []
    },
    {
      "cell_type": "code",
      "source": [
        "train_df.info()"
      ],
      "metadata": {
        "colab": {
          "base_uri": "https://localhost:8080/"
        },
        "id": "_-vFFq1yL9b-",
        "outputId": "79011bdb-b99a-4e2a-a395-842fc75bd1c6"
      },
      "execution_count": 87,
      "outputs": [
        {
          "output_type": "stream",
          "name": "stdout",
          "text": [
            "<class 'pandas.core.frame.DataFrame'>\n",
            "Int64Index: 300000 entries, 0 to 299999\n",
            "Data columns (total 45 columns):\n",
            " #   Column            Non-Null Count   Dtype\n",
            "---  ------            --------------   -----\n",
            " 0   id                300000 non-null  int64\n",
            " 1   bin_0             300000 non-null  int64\n",
            " 2   bin_1             300000 non-null  int64\n",
            " 3   bin_2             300000 non-null  int64\n",
            " 4   bin_3             300000 non-null  int64\n",
            " 5   bin_4             300000 non-null  int64\n",
            " 6   nom_5             300000 non-null  int64\n",
            " 7   nom_6             300000 non-null  int64\n",
            " 8   nom_7             300000 non-null  int64\n",
            " 9   nom_8             300000 non-null  int64\n",
            " 10  nom_9             300000 non-null  int64\n",
            " 11  ord_0             300000 non-null  int64\n",
            " 12  ord_1             300000 non-null  int64\n",
            " 13  ord_2             300000 non-null  int64\n",
            " 14  ord_3             300000 non-null  int64\n",
            " 15  ord_4             300000 non-null  int64\n",
            " 16  ord_5             300000 non-null  int64\n",
            " 17  day               300000 non-null  int64\n",
            " 18  month             300000 non-null  int64\n",
            " 19  target            300000 non-null  int64\n",
            " 20  nom_0_Blue        300000 non-null  uint8\n",
            " 21  nom_0_Green       300000 non-null  uint8\n",
            " 22  nom_0_Red         300000 non-null  uint8\n",
            " 23  nom_1_Circle      300000 non-null  uint8\n",
            " 24  nom_1_Polygon     300000 non-null  uint8\n",
            " 25  nom_1_Square      300000 non-null  uint8\n",
            " 26  nom_1_Star        300000 non-null  uint8\n",
            " 27  nom_1_Trapezoid   300000 non-null  uint8\n",
            " 28  nom_1_Triangle    300000 non-null  uint8\n",
            " 29  nom_2_Axolotl     300000 non-null  uint8\n",
            " 30  nom_2_Cat         300000 non-null  uint8\n",
            " 31  nom_2_Dog         300000 non-null  uint8\n",
            " 32  nom_2_Hamster     300000 non-null  uint8\n",
            " 33  nom_2_Lion        300000 non-null  uint8\n",
            " 34  nom_2_Snake       300000 non-null  uint8\n",
            " 35  nom_3_Canada      300000 non-null  uint8\n",
            " 36  nom_3_China       300000 non-null  uint8\n",
            " 37  nom_3_Costa Rica  300000 non-null  uint8\n",
            " 38  nom_3_Finland     300000 non-null  uint8\n",
            " 39  nom_3_India       300000 non-null  uint8\n",
            " 40  nom_3_Russia      300000 non-null  uint8\n",
            " 41  nom_4_Bassoon     300000 non-null  uint8\n",
            " 42  nom_4_Oboe        300000 non-null  uint8\n",
            " 43  nom_4_Piano       300000 non-null  uint8\n",
            " 44  nom_4_Theremin    300000 non-null  uint8\n",
            "dtypes: int64(20), uint8(25)\n",
            "memory usage: 55.2 MB\n"
          ]
        }
      ]
    },
    {
      "cell_type": "code",
      "source": [
        "test_df.info()"
      ],
      "metadata": {
        "colab": {
          "base_uri": "https://localhost:8080/"
        },
        "id": "UnqAjrcrMBUo",
        "outputId": "65524953-fba3-4ef9-f610-4a31ea9ddaf8"
      },
      "execution_count": 88,
      "outputs": [
        {
          "output_type": "stream",
          "name": "stdout",
          "text": [
            "<class 'pandas.core.frame.DataFrame'>\n",
            "Int64Index: 200000 entries, 0 to 199999\n",
            "Data columns (total 45 columns):\n",
            " #   Column            Non-Null Count   Dtype\n",
            "---  ------            --------------   -----\n",
            " 0   id                200000 non-null  int64\n",
            " 1   bin_0             200000 non-null  int64\n",
            " 2   bin_1             200000 non-null  int64\n",
            " 3   bin_2             200000 non-null  int64\n",
            " 4   bin_3             200000 non-null  int64\n",
            " 5   bin_4             200000 non-null  int64\n",
            " 6   nom_5             200000 non-null  int64\n",
            " 7   nom_6             200000 non-null  int64\n",
            " 8   nom_7             200000 non-null  int64\n",
            " 9   nom_8             200000 non-null  int64\n",
            " 10  nom_9             200000 non-null  int64\n",
            " 11  ord_0             200000 non-null  int64\n",
            " 12  ord_1             200000 non-null  int64\n",
            " 13  ord_2             200000 non-null  int64\n",
            " 14  ord_3             200000 non-null  int64\n",
            " 15  ord_4             200000 non-null  int64\n",
            " 16  ord_5             200000 non-null  int64\n",
            " 17  day               200000 non-null  int64\n",
            " 18  month             200000 non-null  int64\n",
            " 19  target            200000 non-null  int64\n",
            " 20  nom_0_Blue        200000 non-null  uint8\n",
            " 21  nom_0_Green       200000 non-null  uint8\n",
            " 22  nom_0_Red         200000 non-null  uint8\n",
            " 23  nom_1_Circle      200000 non-null  uint8\n",
            " 24  nom_1_Polygon     200000 non-null  uint8\n",
            " 25  nom_1_Square      200000 non-null  uint8\n",
            " 26  nom_1_Star        200000 non-null  uint8\n",
            " 27  nom_1_Trapezoid   200000 non-null  uint8\n",
            " 28  nom_1_Triangle    200000 non-null  uint8\n",
            " 29  nom_2_Axolotl     200000 non-null  uint8\n",
            " 30  nom_2_Cat         200000 non-null  uint8\n",
            " 31  nom_2_Dog         200000 non-null  uint8\n",
            " 32  nom_2_Hamster     200000 non-null  uint8\n",
            " 33  nom_2_Lion        200000 non-null  uint8\n",
            " 34  nom_2_Snake       200000 non-null  uint8\n",
            " 35  nom_3_Canada      200000 non-null  uint8\n",
            " 36  nom_3_China       200000 non-null  uint8\n",
            " 37  nom_3_Costa Rica  200000 non-null  uint8\n",
            " 38  nom_3_Finland     200000 non-null  uint8\n",
            " 39  nom_3_India       200000 non-null  uint8\n",
            " 40  nom_3_Russia      200000 non-null  uint8\n",
            " 41  nom_4_Bassoon     200000 non-null  uint8\n",
            " 42  nom_4_Oboe        200000 non-null  uint8\n",
            " 43  nom_4_Piano       200000 non-null  uint8\n",
            " 44  nom_4_Theremin    200000 non-null  uint8\n",
            "dtypes: int64(20), uint8(25)\n",
            "memory usage: 36.8 MB\n"
          ]
        }
      ]
    },
    {
      "cell_type": "code",
      "source": [
        "y = train_df['target']\n",
        "X = train_df.drop(columns=['target', 'id'])\n",
        "\n",
        "skf = StratifiedKFold(n_splits=10, shuffle=True, random_state=1)\n",
        "\n",
        "accs = []\n",
        "aucs = []\n",
        "\n",
        "for train_index, test_index in skf.split(X, y):\n",
        "\n",
        "    #splitting the data\n",
        "    x_train_fold, x_test_fold = X.iloc[train_index], X.iloc[test_index]\n",
        "    y_train_fold, y_test_fold = y[train_index], y[test_index]\n",
        "\n",
        "    print(\"Shape: \", x_train_fold.shape)\n",
        "\n",
        "    #scaling the data\n",
        "    scaler = preprocessing.StandardScaler()\n",
        "    x_train_fold = scaler.fit_transform(x_train_fold)\n",
        "    x_test_fold = scaler.transform(x_test_fold)\n",
        "\n",
        "    model=LogisticRegression(\n",
        "        max_iter=10000,\n",
        "        solver='lbfgs',\n",
        "        n_jobs=-1)\n",
        "\n",
        "    # fit the model on the train fold\n",
        "    model.fit(x_train_fold, y_train_fold)\n",
        "\n",
        "    # predict labels for test fold\n",
        "    y_pred = model.predict(x_test_fold)\n",
        "    \n",
        "    fpr, tpr, thresholds = metrics.roc_curve(y_test_fold, y_pred)\n",
        "    curr_auc = metrics.auc(fpr, tpr)\n",
        "    aucs.append(curr_auc)\n",
        "\n",
        "    curr_acc = accuracy_score(y_test_fold, y_pred)\n",
        "    accs.append(curr_acc)\n",
        "\n",
        "    print(curr_acc)\n",
        "    print(curr_auc)\n",
        "    if curr_acc >= max(accs):\n",
        "        print(\"Best Model\")\n",
        "        best_model = model\n",
        "    print('\\n')\n",
        "\n",
        "print( \"Average accuracy: \", sum(accs)/len(accs))\n",
        "print( \"Average accuracy: \", sum(aucs)/len(aucs))"
      ],
      "metadata": {
        "colab": {
          "base_uri": "https://localhost:8080/"
        },
        "id": "3IRZmSVk25R9",
        "outputId": "47e5671a-a617-439e-e6fa-cc2326183657"
      },
      "execution_count": 89,
      "outputs": [
        {
          "output_type": "stream",
          "name": "stdout",
          "text": [
            "Shape:  (270000, 43)\n",
            "0.7419666666666667\n",
            "0.6424737811746288\n",
            "Best Model\n",
            "\n",
            "\n",
            "Shape:  (270000, 43)\n",
            "0.7452333333333333\n",
            "0.6440038964832008\n",
            "Best Model\n",
            "\n",
            "\n",
            "Shape:  (270000, 43)\n",
            "0.7445\n",
            "0.6434756598331816\n",
            "\n",
            "\n",
            "Shape:  (270000, 43)\n",
            "0.7419666666666667\n",
            "0.6419556344851909\n",
            "\n",
            "\n",
            "Shape:  (270000, 43)\n",
            "0.7399\n",
            "0.6374495250768595\n",
            "\n",
            "\n",
            "Shape:  (270000, 43)\n",
            "0.7416333333333334\n",
            "0.640892588057305\n",
            "\n",
            "\n",
            "Shape:  (270000, 43)\n",
            "0.7434666666666667\n",
            "0.6424273854019237\n",
            "\n",
            "\n",
            "Shape:  (270000, 43)\n",
            "0.7450333333333333\n",
            "0.6418799782227126\n",
            "\n",
            "\n",
            "Shape:  (270000, 43)\n",
            "0.7419666666666667\n",
            "0.6403412692891817\n",
            "\n",
            "\n",
            "Shape:  (270000, 43)\n",
            "0.7405666666666667\n",
            "0.6372301923604387\n",
            "\n",
            "\n",
            "Average accuracy:  0.7426233333333333\n",
            "Average accuracy:  0.6412129910384623\n"
          ]
        }
      ]
    },
    {
      "cell_type": "code",
      "source": [
        "X_test = test_df.drop(columns=['target', 'id'])\n",
        "y_pred = best_model.predict_proba(X_test)[:,1]"
      ],
      "metadata": {
        "colab": {
          "base_uri": "https://localhost:8080/"
        },
        "id": "YoqpreDRMi0w",
        "outputId": "1eee33bb-f017-4e1e-b146-0dea1bf704d4"
      },
      "execution_count": 100,
      "outputs": [
        {
          "output_type": "stream",
          "name": "stderr",
          "text": [
            "/usr/local/lib/python3.7/dist-packages/sklearn/base.py:444: UserWarning: X has feature names, but LogisticRegression was fitted without feature names\n",
            "  f\"X has feature names, but {self.__class__.__name__} was fitted without\"\n"
          ]
        }
      ]
    },
    {
      "cell_type": "code",
      "source": [
        "y_pred"
      ],
      "metadata": {
        "colab": {
          "base_uri": "https://localhost:8080/"
        },
        "id": "5r-tUdzKOOSe",
        "outputId": "c53fccb0-a755-4ad3-f22b-ed3b2dac3292"
      },
      "execution_count": 101,
      "outputs": [
        {
          "output_type": "execute_result",
          "data": {
            "text/plain": [
              "array([1., 1., 1., ..., 1., 1., 1.])"
            ]
          },
          "metadata": {},
          "execution_count": 101
        }
      ]
    },
    {
      "cell_type": "code",
      "source": [
        "submission = pd.DataFrame()\n",
        "\n",
        "submission['id'] = test_df['id']\n",
        "submission['target'] = y_pred"
      ],
      "metadata": {
        "id": "2qwk9zyENHtt"
      },
      "execution_count": 104,
      "outputs": []
    },
    {
      "cell_type": "code",
      "source": [
        "submission.head()"
      ],
      "metadata": {
        "colab": {
          "base_uri": "https://localhost:8080/",
          "height": 206
        },
        "id": "OhzRjKTbNxn1",
        "outputId": "824cf055-2480-49cf-f1df-40eca789eeb7"
      },
      "execution_count": 105,
      "outputs": [
        {
          "output_type": "execute_result",
          "data": {
            "text/plain": [
              "       id  target\n",
              "0  300000     1.0\n",
              "1  300001     1.0\n",
              "2  300002     1.0\n",
              "3  300003     1.0\n",
              "4  300004     1.0"
            ],
            "text/html": [
              "\n",
              "  <div id=\"df-ffddc61d-a38d-4858-8581-61f185c81e41\">\n",
              "    <div class=\"colab-df-container\">\n",
              "      <div>\n",
              "<style scoped>\n",
              "    .dataframe tbody tr th:only-of-type {\n",
              "        vertical-align: middle;\n",
              "    }\n",
              "\n",
              "    .dataframe tbody tr th {\n",
              "        vertical-align: top;\n",
              "    }\n",
              "\n",
              "    .dataframe thead th {\n",
              "        text-align: right;\n",
              "    }\n",
              "</style>\n",
              "<table border=\"1\" class=\"dataframe\">\n",
              "  <thead>\n",
              "    <tr style=\"text-align: right;\">\n",
              "      <th></th>\n",
              "      <th>id</th>\n",
              "      <th>target</th>\n",
              "    </tr>\n",
              "  </thead>\n",
              "  <tbody>\n",
              "    <tr>\n",
              "      <th>0</th>\n",
              "      <td>300000</td>\n",
              "      <td>1.0</td>\n",
              "    </tr>\n",
              "    <tr>\n",
              "      <th>1</th>\n",
              "      <td>300001</td>\n",
              "      <td>1.0</td>\n",
              "    </tr>\n",
              "    <tr>\n",
              "      <th>2</th>\n",
              "      <td>300002</td>\n",
              "      <td>1.0</td>\n",
              "    </tr>\n",
              "    <tr>\n",
              "      <th>3</th>\n",
              "      <td>300003</td>\n",
              "      <td>1.0</td>\n",
              "    </tr>\n",
              "    <tr>\n",
              "      <th>4</th>\n",
              "      <td>300004</td>\n",
              "      <td>1.0</td>\n",
              "    </tr>\n",
              "  </tbody>\n",
              "</table>\n",
              "</div>\n",
              "      <button class=\"colab-df-convert\" onclick=\"convertToInteractive('df-ffddc61d-a38d-4858-8581-61f185c81e41')\"\n",
              "              title=\"Convert this dataframe to an interactive table.\"\n",
              "              style=\"display:none;\">\n",
              "        \n",
              "  <svg xmlns=\"http://www.w3.org/2000/svg\" height=\"24px\"viewBox=\"0 0 24 24\"\n",
              "       width=\"24px\">\n",
              "    <path d=\"M0 0h24v24H0V0z\" fill=\"none\"/>\n",
              "    <path d=\"M18.56 5.44l.94 2.06.94-2.06 2.06-.94-2.06-.94-.94-2.06-.94 2.06-2.06.94zm-11 1L8.5 8.5l.94-2.06 2.06-.94-2.06-.94L8.5 2.5l-.94 2.06-2.06.94zm10 10l.94 2.06.94-2.06 2.06-.94-2.06-.94-.94-2.06-.94 2.06-2.06.94z\"/><path d=\"M17.41 7.96l-1.37-1.37c-.4-.4-.92-.59-1.43-.59-.52 0-1.04.2-1.43.59L10.3 9.45l-7.72 7.72c-.78.78-.78 2.05 0 2.83L4 21.41c.39.39.9.59 1.41.59.51 0 1.02-.2 1.41-.59l7.78-7.78 2.81-2.81c.8-.78.8-2.07 0-2.86zM5.41 20L4 18.59l7.72-7.72 1.47 1.35L5.41 20z\"/>\n",
              "  </svg>\n",
              "      </button>\n",
              "      \n",
              "  <style>\n",
              "    .colab-df-container {\n",
              "      display:flex;\n",
              "      flex-wrap:wrap;\n",
              "      gap: 12px;\n",
              "    }\n",
              "\n",
              "    .colab-df-convert {\n",
              "      background-color: #E8F0FE;\n",
              "      border: none;\n",
              "      border-radius: 50%;\n",
              "      cursor: pointer;\n",
              "      display: none;\n",
              "      fill: #1967D2;\n",
              "      height: 32px;\n",
              "      padding: 0 0 0 0;\n",
              "      width: 32px;\n",
              "    }\n",
              "\n",
              "    .colab-df-convert:hover {\n",
              "      background-color: #E2EBFA;\n",
              "      box-shadow: 0px 1px 2px rgba(60, 64, 67, 0.3), 0px 1px 3px 1px rgba(60, 64, 67, 0.15);\n",
              "      fill: #174EA6;\n",
              "    }\n",
              "\n",
              "    [theme=dark] .colab-df-convert {\n",
              "      background-color: #3B4455;\n",
              "      fill: #D2E3FC;\n",
              "    }\n",
              "\n",
              "    [theme=dark] .colab-df-convert:hover {\n",
              "      background-color: #434B5C;\n",
              "      box-shadow: 0px 1px 3px 1px rgba(0, 0, 0, 0.15);\n",
              "      filter: drop-shadow(0px 1px 2px rgba(0, 0, 0, 0.3));\n",
              "      fill: #FFFFFF;\n",
              "    }\n",
              "  </style>\n",
              "\n",
              "      <script>\n",
              "        const buttonEl =\n",
              "          document.querySelector('#df-ffddc61d-a38d-4858-8581-61f185c81e41 button.colab-df-convert');\n",
              "        buttonEl.style.display =\n",
              "          google.colab.kernel.accessAllowed ? 'block' : 'none';\n",
              "\n",
              "        async function convertToInteractive(key) {\n",
              "          const element = document.querySelector('#df-ffddc61d-a38d-4858-8581-61f185c81e41');\n",
              "          const dataTable =\n",
              "            await google.colab.kernel.invokeFunction('convertToInteractive',\n",
              "                                                     [key], {});\n",
              "          if (!dataTable) return;\n",
              "\n",
              "          const docLinkHtml = 'Like what you see? Visit the ' +\n",
              "            '<a target=\"_blank\" href=https://colab.research.google.com/notebooks/data_table.ipynb>data table notebook</a>'\n",
              "            + ' to learn more about interactive tables.';\n",
              "          element.innerHTML = '';\n",
              "          dataTable['output_type'] = 'display_data';\n",
              "          await google.colab.output.renderOutput(dataTable, element);\n",
              "          const docLink = document.createElement('div');\n",
              "          docLink.innerHTML = docLinkHtml;\n",
              "          element.appendChild(docLink);\n",
              "        }\n",
              "      </script>\n",
              "    </div>\n",
              "  </div>\n",
              "  "
            ]
          },
          "metadata": {},
          "execution_count": 105
        }
      ]
    },
    {
      "cell_type": "code",
      "source": [
        "submission.to_csv(\"submission_v1.csv\", index=False)"
      ],
      "metadata": {
        "id": "FmJLf_mnOqde"
      },
      "execution_count": 110,
      "outputs": []
    }
  ]
}